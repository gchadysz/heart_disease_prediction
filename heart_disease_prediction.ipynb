{
 "cells": [
  {
   "cell_type": "markdown",
   "metadata": {},
   "source": [
    "# Predicting the presence of a heart disease\n",
    "***\n",
    "## Data description\n",
    "The dataset contains medical information about patients from Cleveland, who either suffered or not from a heart disease. The problem analyzed in this project is to try and detect whether a patient has a heart disease or not based on his current condition which is described by a set of variables explained later. The dataset was downloaded from **[here](https://archive.ics.uci.edu/ml/datasets/Heart+Disease)** and is named *processed.cleveland.data*.\n"
   ]
  },
  {
   "cell_type": "markdown",
   "metadata": {},
   "source": [
    "Firstly we need to import the data and check the dimensions to see what is the size of the dataset."
   ]
  },
  {
   "cell_type": "code",
   "execution_count": 366,
   "metadata": {},
   "outputs": [
    {
     "data": {
      "text/plain": [
       "(303, 14)"
      ]
     },
     "execution_count": 366,
     "metadata": {},
     "output_type": "execute_result"
    }
   ],
   "source": [
    "import pandas as pd\n",
    "import os\n",
    "\n",
    "data = pd.read_csv(os.getcwd() + '\\\\processed.cleveland.data', header=None)\n",
    "\n",
    "data.shape"
   ]
  },
  {
   "cell_type": "markdown",
   "metadata": {},
   "source": [
    "The dataset contains 303 observations and 14 variables with one of them being the target variable. Below is the explanation of all of them:"
   ]
  },
  {
   "cell_type": "markdown",
   "metadata": {},
   "source": [
    "* age - patient's age in years\n",
    "* sex - patient's sex (1 = male, 0 = female)\n",
    "* cp - Chest pain type:\n",
    "    * 1 = typical angina\n",
    "    * 2 = atypical angina\n",
    "    * 3 = non-anginal pain\n",
    "    * 4 = asymptomatic\n",
    "* trestbps - resting blood pressure (in mm Hg on admission to the hospital)\n",
    "* chol - serum cholestoral in mg/dl\n",
    "* fbs - fasting blood sugar (if > 120 mg/dl then 1, else 0)\n",
    "* restecg - resting electrocardiographic results:\n",
    "    * 0 = normal\n",
    "    * 1 = having ST-T wave abnormality (T wave inversions and/or ST elevation or depression of > 0.05 mV) \n",
    "    * 2 = showing probable or definite left ventricular hypertrophy by Estes' criteria\n",
    "* thalach - maximum heart rate achieved\n",
    "* exang - exercise induced angina (1 = yes, 0 = no)\n",
    "* oldpeak - ST depression induced by exercise relative to rest\n",
    "* slope - the slope of the peak exercise ST segment:\n",
    "    * 1 = upsloping\n",
    "    * 2 = flat\n",
    "    * 3 = downsloping\n",
    "* ca - number of major vessels colored by flourosopy (values 0 - 3)\n",
    "* thal - a blood disorder called thalassemia:\n",
    "    * 3 = normal\n",
    "    * 6 = fixed defect\n",
    "    * 7 = reversable defect\n",
    "* hds - diagnosis of heart disease (values 0 - 4)"
   ]
  },
  {
   "cell_type": "markdown",
   "metadata": {},
   "source": [
    "The last variable is the target variable describing whether a patient had a heart disease (values 1 - 4) or didn't (value 0). We would like to create a model which would, in a best way possible, determine if the patient suffers (or not) from a heart disease considering all the measurements and informations we have about him/her.\n",
    "***"
   ]
  },
  {
   "cell_type": "markdown",
   "metadata": {},
   "source": [
    "## Data transformation and analysis\n",
    "First step is to examine the dataset to get the grasp of how it looks like and how it's constructed.\n"
   ]
  },
  {
   "cell_type": "code",
   "execution_count": 367,
   "metadata": {},
   "outputs": [
    {
     "data": {
      "text/html": [
       "<div>\n",
       "<style scoped>\n",
       "    .dataframe tbody tr th:only-of-type {\n",
       "        vertical-align: middle;\n",
       "    }\n",
       "\n",
       "    .dataframe tbody tr th {\n",
       "        vertical-align: top;\n",
       "    }\n",
       "\n",
       "    .dataframe thead th {\n",
       "        text-align: right;\n",
       "    }\n",
       "</style>\n",
       "<table border=\"1\" class=\"dataframe\">\n",
       "  <thead>\n",
       "    <tr style=\"text-align: right;\">\n",
       "      <th></th>\n",
       "      <th>0</th>\n",
       "      <th>1</th>\n",
       "      <th>2</th>\n",
       "      <th>3</th>\n",
       "      <th>4</th>\n",
       "      <th>5</th>\n",
       "      <th>6</th>\n",
       "      <th>7</th>\n",
       "      <th>8</th>\n",
       "      <th>9</th>\n",
       "      <th>10</th>\n",
       "      <th>11</th>\n",
       "      <th>12</th>\n",
       "      <th>13</th>\n",
       "    </tr>\n",
       "  </thead>\n",
       "  <tbody>\n",
       "    <tr>\n",
       "      <th>0</th>\n",
       "      <td>63.0</td>\n",
       "      <td>1.0</td>\n",
       "      <td>1.0</td>\n",
       "      <td>145.0</td>\n",
       "      <td>233.0</td>\n",
       "      <td>1.0</td>\n",
       "      <td>2.0</td>\n",
       "      <td>150.0</td>\n",
       "      <td>0.0</td>\n",
       "      <td>2.3</td>\n",
       "      <td>3.0</td>\n",
       "      <td>0.0</td>\n",
       "      <td>6.0</td>\n",
       "      <td>0</td>\n",
       "    </tr>\n",
       "    <tr>\n",
       "      <th>1</th>\n",
       "      <td>67.0</td>\n",
       "      <td>1.0</td>\n",
       "      <td>4.0</td>\n",
       "      <td>160.0</td>\n",
       "      <td>286.0</td>\n",
       "      <td>0.0</td>\n",
       "      <td>2.0</td>\n",
       "      <td>108.0</td>\n",
       "      <td>1.0</td>\n",
       "      <td>1.5</td>\n",
       "      <td>2.0</td>\n",
       "      <td>3.0</td>\n",
       "      <td>3.0</td>\n",
       "      <td>2</td>\n",
       "    </tr>\n",
       "    <tr>\n",
       "      <th>2</th>\n",
       "      <td>67.0</td>\n",
       "      <td>1.0</td>\n",
       "      <td>4.0</td>\n",
       "      <td>120.0</td>\n",
       "      <td>229.0</td>\n",
       "      <td>0.0</td>\n",
       "      <td>2.0</td>\n",
       "      <td>129.0</td>\n",
       "      <td>1.0</td>\n",
       "      <td>2.6</td>\n",
       "      <td>2.0</td>\n",
       "      <td>2.0</td>\n",
       "      <td>7.0</td>\n",
       "      <td>1</td>\n",
       "    </tr>\n",
       "    <tr>\n",
       "      <th>3</th>\n",
       "      <td>37.0</td>\n",
       "      <td>1.0</td>\n",
       "      <td>3.0</td>\n",
       "      <td>130.0</td>\n",
       "      <td>250.0</td>\n",
       "      <td>0.0</td>\n",
       "      <td>0.0</td>\n",
       "      <td>187.0</td>\n",
       "      <td>0.0</td>\n",
       "      <td>3.5</td>\n",
       "      <td>3.0</td>\n",
       "      <td>0.0</td>\n",
       "      <td>3.0</td>\n",
       "      <td>0</td>\n",
       "    </tr>\n",
       "    <tr>\n",
       "      <th>4</th>\n",
       "      <td>41.0</td>\n",
       "      <td>0.0</td>\n",
       "      <td>2.0</td>\n",
       "      <td>130.0</td>\n",
       "      <td>204.0</td>\n",
       "      <td>0.0</td>\n",
       "      <td>2.0</td>\n",
       "      <td>172.0</td>\n",
       "      <td>0.0</td>\n",
       "      <td>1.4</td>\n",
       "      <td>1.0</td>\n",
       "      <td>0.0</td>\n",
       "      <td>3.0</td>\n",
       "      <td>0</td>\n",
       "    </tr>\n",
       "  </tbody>\n",
       "</table>\n",
       "</div>"
      ],
      "text/plain": [
       "     0    1    2      3      4    5    6      7    8    9    10   11   12  13\n",
       "0  63.0  1.0  1.0  145.0  233.0  1.0  2.0  150.0  0.0  2.3  3.0  0.0  6.0   0\n",
       "1  67.0  1.0  4.0  160.0  286.0  0.0  2.0  108.0  1.0  1.5  2.0  3.0  3.0   2\n",
       "2  67.0  1.0  4.0  120.0  229.0  0.0  2.0  129.0  1.0  2.6  2.0  2.0  7.0   1\n",
       "3  37.0  1.0  3.0  130.0  250.0  0.0  0.0  187.0  0.0  3.5  3.0  0.0  3.0   0\n",
       "4  41.0  0.0  2.0  130.0  204.0  0.0  2.0  172.0  0.0  1.4  1.0  0.0  3.0   0"
      ]
     },
     "execution_count": 367,
     "metadata": {},
     "output_type": "execute_result"
    }
   ],
   "source": [
    "data.head()"
   ]
  },
  {
   "cell_type": "markdown",
   "metadata": {},
   "source": [
    "It will be easier later on to refer to columns with the names of variables, not the numbers, so let's rename the variable names to the ones shown at the beginning."
   ]
  },
  {
   "cell_type": "code",
   "execution_count": 368,
   "metadata": {},
   "outputs": [],
   "source": [
    "data = data.rename(columns = {0:\"age\", 1:\"sex\", 2:\"cp\", 3:\"trestbps\", 4:\"chol\", 5:\"fbs\", 6:\"restecg\", \n",
    "                              7:\"thalach\", 8:\"exang\", 9:\"oldpeak\", 10:\"slope\", 11:\"ca\", 12:\"thal\", 13:\"hds\"})"
   ]
  },
  {
   "cell_type": "markdown",
   "metadata": {},
   "source": [
    "Let's also check the types of the variables in each column."
   ]
  },
  {
   "cell_type": "code",
   "execution_count": 369,
   "metadata": {},
   "outputs": [
    {
     "data": {
      "text/plain": [
       "age         float64\n",
       "sex         float64\n",
       "cp          float64\n",
       "trestbps    float64\n",
       "chol        float64\n",
       "fbs         float64\n",
       "restecg     float64\n",
       "thalach     float64\n",
       "exang       float64\n",
       "oldpeak     float64\n",
       "slope       float64\n",
       "ca           object\n",
       "thal         object\n",
       "hds           int64\n",
       "dtype: object"
      ]
     },
     "execution_count": 369,
     "metadata": {},
     "output_type": "execute_result"
    }
   ],
   "source": [
    "data.dtypes"
   ]
  },
  {
   "cell_type": "markdown",
   "metadata": {},
   "source": [
    "Both 'ca' and 'thal' variables are object types, which should not happen. When we take a look at why that is the case we can find out that both of these columns contain non-numeric values. What's more, because of this, rest of the integers is considered as strings and not numbers."
   ]
  },
  {
   "cell_type": "code",
   "execution_count": 370,
   "metadata": {},
   "outputs": [
    {
     "name": "stdout",
     "output_type": "stream",
     "text": [
      "3.0    166\n",
      "7.0    117\n",
      "6.0     18\n",
      "?        2\n",
      "Name: thal, dtype: int64\n"
     ]
    },
    {
     "data": {
      "text/html": [
       "<div>\n",
       "<style scoped>\n",
       "    .dataframe tbody tr th:only-of-type {\n",
       "        vertical-align: middle;\n",
       "    }\n",
       "\n",
       "    .dataframe tbody tr th {\n",
       "        vertical-align: top;\n",
       "    }\n",
       "\n",
       "    .dataframe thead th {\n",
       "        text-align: right;\n",
       "    }\n",
       "</style>\n",
       "<table border=\"1\" class=\"dataframe\">\n",
       "  <thead>\n",
       "    <tr style=\"text-align: right;\">\n",
       "      <th></th>\n",
       "      <th>age</th>\n",
       "      <th>sex</th>\n",
       "      <th>cp</th>\n",
       "      <th>trestbps</th>\n",
       "      <th>chol</th>\n",
       "      <th>fbs</th>\n",
       "      <th>restecg</th>\n",
       "      <th>thalach</th>\n",
       "      <th>exang</th>\n",
       "      <th>oldpeak</th>\n",
       "      <th>slope</th>\n",
       "      <th>ca</th>\n",
       "      <th>thal</th>\n",
       "      <th>hds</th>\n",
       "    </tr>\n",
       "  </thead>\n",
       "  <tbody>\n",
       "    <tr>\n",
       "      <th>87</th>\n",
       "      <td>53.0</td>\n",
       "      <td>0.0</td>\n",
       "      <td>3.0</td>\n",
       "      <td>128.0</td>\n",
       "      <td>216.0</td>\n",
       "      <td>0.0</td>\n",
       "      <td>2.0</td>\n",
       "      <td>115.0</td>\n",
       "      <td>0.0</td>\n",
       "      <td>0.0</td>\n",
       "      <td>1.0</td>\n",
       "      <td>0.0</td>\n",
       "      <td>?</td>\n",
       "      <td>0</td>\n",
       "    </tr>\n",
       "    <tr>\n",
       "      <th>266</th>\n",
       "      <td>52.0</td>\n",
       "      <td>1.0</td>\n",
       "      <td>4.0</td>\n",
       "      <td>128.0</td>\n",
       "      <td>204.0</td>\n",
       "      <td>1.0</td>\n",
       "      <td>0.0</td>\n",
       "      <td>156.0</td>\n",
       "      <td>1.0</td>\n",
       "      <td>1.0</td>\n",
       "      <td>2.0</td>\n",
       "      <td>0.0</td>\n",
       "      <td>?</td>\n",
       "      <td>2</td>\n",
       "    </tr>\n",
       "  </tbody>\n",
       "</table>\n",
       "</div>"
      ],
      "text/plain": [
       "      age  sex   cp  trestbps   chol  fbs  restecg  thalach  exang  oldpeak  \\\n",
       "87   53.0  0.0  3.0     128.0  216.0  0.0      2.0    115.0    0.0      0.0   \n",
       "266  52.0  1.0  4.0     128.0  204.0  1.0      0.0    156.0    1.0      1.0   \n",
       "\n",
       "     slope   ca thal  hds  \n",
       "87     1.0  0.0    ?    0  \n",
       "266    2.0  0.0    ?    2  "
      ]
     },
     "metadata": {},
     "output_type": "display_data"
    },
    {
     "name": "stdout",
     "output_type": "stream",
     "text": [
      "0.0    176\n",
      "1.0     65\n",
      "2.0     38\n",
      "3.0     20\n",
      "?        4\n",
      "Name: ca, dtype: int64\n"
     ]
    },
    {
     "data": {
      "text/html": [
       "<div>\n",
       "<style scoped>\n",
       "    .dataframe tbody tr th:only-of-type {\n",
       "        vertical-align: middle;\n",
       "    }\n",
       "\n",
       "    .dataframe tbody tr th {\n",
       "        vertical-align: top;\n",
       "    }\n",
       "\n",
       "    .dataframe thead th {\n",
       "        text-align: right;\n",
       "    }\n",
       "</style>\n",
       "<table border=\"1\" class=\"dataframe\">\n",
       "  <thead>\n",
       "    <tr style=\"text-align: right;\">\n",
       "      <th></th>\n",
       "      <th>age</th>\n",
       "      <th>sex</th>\n",
       "      <th>cp</th>\n",
       "      <th>trestbps</th>\n",
       "      <th>chol</th>\n",
       "      <th>fbs</th>\n",
       "      <th>restecg</th>\n",
       "      <th>thalach</th>\n",
       "      <th>exang</th>\n",
       "      <th>oldpeak</th>\n",
       "      <th>slope</th>\n",
       "      <th>ca</th>\n",
       "      <th>thal</th>\n",
       "      <th>hds</th>\n",
       "    </tr>\n",
       "  </thead>\n",
       "  <tbody>\n",
       "    <tr>\n",
       "      <th>166</th>\n",
       "      <td>52.0</td>\n",
       "      <td>1.0</td>\n",
       "      <td>3.0</td>\n",
       "      <td>138.0</td>\n",
       "      <td>223.0</td>\n",
       "      <td>0.0</td>\n",
       "      <td>0.0</td>\n",
       "      <td>169.0</td>\n",
       "      <td>0.0</td>\n",
       "      <td>0.0</td>\n",
       "      <td>1.0</td>\n",
       "      <td>?</td>\n",
       "      <td>3.0</td>\n",
       "      <td>0</td>\n",
       "    </tr>\n",
       "    <tr>\n",
       "      <th>192</th>\n",
       "      <td>43.0</td>\n",
       "      <td>1.0</td>\n",
       "      <td>4.0</td>\n",
       "      <td>132.0</td>\n",
       "      <td>247.0</td>\n",
       "      <td>1.0</td>\n",
       "      <td>2.0</td>\n",
       "      <td>143.0</td>\n",
       "      <td>1.0</td>\n",
       "      <td>0.1</td>\n",
       "      <td>2.0</td>\n",
       "      <td>?</td>\n",
       "      <td>7.0</td>\n",
       "      <td>1</td>\n",
       "    </tr>\n",
       "    <tr>\n",
       "      <th>287</th>\n",
       "      <td>58.0</td>\n",
       "      <td>1.0</td>\n",
       "      <td>2.0</td>\n",
       "      <td>125.0</td>\n",
       "      <td>220.0</td>\n",
       "      <td>0.0</td>\n",
       "      <td>0.0</td>\n",
       "      <td>144.0</td>\n",
       "      <td>0.0</td>\n",
       "      <td>0.4</td>\n",
       "      <td>2.0</td>\n",
       "      <td>?</td>\n",
       "      <td>7.0</td>\n",
       "      <td>0</td>\n",
       "    </tr>\n",
       "    <tr>\n",
       "      <th>302</th>\n",
       "      <td>38.0</td>\n",
       "      <td>1.0</td>\n",
       "      <td>3.0</td>\n",
       "      <td>138.0</td>\n",
       "      <td>175.0</td>\n",
       "      <td>0.0</td>\n",
       "      <td>0.0</td>\n",
       "      <td>173.0</td>\n",
       "      <td>0.0</td>\n",
       "      <td>0.0</td>\n",
       "      <td>1.0</td>\n",
       "      <td>?</td>\n",
       "      <td>3.0</td>\n",
       "      <td>0</td>\n",
       "    </tr>\n",
       "  </tbody>\n",
       "</table>\n",
       "</div>"
      ],
      "text/plain": [
       "      age  sex   cp  trestbps   chol  fbs  restecg  thalach  exang  oldpeak  \\\n",
       "166  52.0  1.0  3.0     138.0  223.0  0.0      0.0    169.0    0.0      0.0   \n",
       "192  43.0  1.0  4.0     132.0  247.0  1.0      2.0    143.0    1.0      0.1   \n",
       "287  58.0  1.0  2.0     125.0  220.0  0.0      0.0    144.0    0.0      0.4   \n",
       "302  38.0  1.0  3.0     138.0  175.0  0.0      0.0    173.0    0.0      0.0   \n",
       "\n",
       "     slope ca thal  hds  \n",
       "166    1.0  ?  3.0    0  \n",
       "192    2.0  ?  7.0    1  \n",
       "287    2.0  ?  7.0    0  \n",
       "302    1.0  ?  3.0    0  "
      ]
     },
     "metadata": {},
     "output_type": "display_data"
    }
   ],
   "source": [
    "print(data.thal.value_counts())\n",
    "display(data.loc[data[\"thal\"] == \"?\"])\n",
    "\n",
    "print(data.ca.value_counts())\n",
    "display(data.loc[data[\"ca\"] == \"?\"])"
   ]
  },
  {
   "cell_type": "markdown",
   "metadata": {},
   "source": [
    "In both cases the missing values were that of nominal variables, thus I decided to impute them with the mode. Most common value seemed like a appropriate method given that in both cases it was quite dominant."
   ]
  },
  {
   "cell_type": "code",
   "execution_count": 371,
   "metadata": {},
   "outputs": [
    {
     "name": "stdout",
     "output_type": "stream",
     "text": [
      "3.0    168\n",
      "7.0    117\n",
      "6.0     18\n",
      "Name: thal, dtype: int64\n",
      "0.0    180\n",
      "1.0     65\n",
      "2.0     38\n",
      "3.0     20\n",
      "Name: ca, dtype: int64\n"
     ]
    }
   ],
   "source": [
    "import numpy as np\n",
    "\n",
    "data.loc[data[\"thal\"] == \"?\", \"thal\"] = 3\n",
    "data['thal'] = pd.to_numeric(data['thal'])\n",
    "print(data.thal.value_counts())\n",
    "       \n",
    "data.loc[data[\"ca\"] == \"?\", \"ca\"] = 0\n",
    "data['ca'] = pd.to_numeric(data['ca'])\n",
    "print(data.ca.value_counts())"
   ]
  },
  {
   "cell_type": "markdown",
   "metadata": {},
   "source": [
    "Next step we can check if our dataset contains any NAs or has some obvious mistakes in it: i.e. blood pressure equal to zero."
   ]
  },
  {
   "cell_type": "code",
   "execution_count": 372,
   "metadata": {
    "scrolled": false
   },
   "outputs": [
    {
     "name": "stdout",
     "output_type": "stream",
     "text": [
      "age         0\n",
      "sex         0\n",
      "cp          0\n",
      "trestbps    0\n",
      "chol        0\n",
      "fbs         0\n",
      "restecg     0\n",
      "thalach     0\n",
      "exang       0\n",
      "oldpeak     0\n",
      "slope       0\n",
      "ca          0\n",
      "thal        0\n",
      "hds         0\n",
      "dtype: int64\n"
     ]
    },
    {
     "data": {
      "text/html": [
       "<div>\n",
       "<style scoped>\n",
       "    .dataframe tbody tr th:only-of-type {\n",
       "        vertical-align: middle;\n",
       "    }\n",
       "\n",
       "    .dataframe tbody tr th {\n",
       "        vertical-align: top;\n",
       "    }\n",
       "\n",
       "    .dataframe thead th {\n",
       "        text-align: right;\n",
       "    }\n",
       "</style>\n",
       "<table border=\"1\" class=\"dataframe\">\n",
       "  <thead>\n",
       "    <tr style=\"text-align: right;\">\n",
       "      <th></th>\n",
       "      <th>age</th>\n",
       "      <th>sex</th>\n",
       "      <th>cp</th>\n",
       "      <th>trestbps</th>\n",
       "      <th>chol</th>\n",
       "      <th>fbs</th>\n",
       "      <th>restecg</th>\n",
       "      <th>thalach</th>\n",
       "      <th>exang</th>\n",
       "      <th>oldpeak</th>\n",
       "      <th>slope</th>\n",
       "      <th>ca</th>\n",
       "      <th>thal</th>\n",
       "      <th>hds</th>\n",
       "    </tr>\n",
       "  </thead>\n",
       "  <tbody>\n",
       "    <tr>\n",
       "      <th>count</th>\n",
       "      <td>303.000000</td>\n",
       "      <td>303.000000</td>\n",
       "      <td>303.000000</td>\n",
       "      <td>303.000000</td>\n",
       "      <td>303.000000</td>\n",
       "      <td>303.000000</td>\n",
       "      <td>303.000000</td>\n",
       "      <td>303.000000</td>\n",
       "      <td>303.000000</td>\n",
       "      <td>303.000000</td>\n",
       "      <td>303.000000</td>\n",
       "      <td>303.000000</td>\n",
       "      <td>303.000000</td>\n",
       "      <td>303.000000</td>\n",
       "    </tr>\n",
       "    <tr>\n",
       "      <th>mean</th>\n",
       "      <td>54.438944</td>\n",
       "      <td>0.679868</td>\n",
       "      <td>3.158416</td>\n",
       "      <td>131.689769</td>\n",
       "      <td>246.693069</td>\n",
       "      <td>0.148515</td>\n",
       "      <td>0.990099</td>\n",
       "      <td>149.607261</td>\n",
       "      <td>0.326733</td>\n",
       "      <td>1.039604</td>\n",
       "      <td>1.600660</td>\n",
       "      <td>0.663366</td>\n",
       "      <td>4.722772</td>\n",
       "      <td>0.937294</td>\n",
       "    </tr>\n",
       "    <tr>\n",
       "      <th>std</th>\n",
       "      <td>9.038662</td>\n",
       "      <td>0.467299</td>\n",
       "      <td>0.960126</td>\n",
       "      <td>17.599748</td>\n",
       "      <td>51.776918</td>\n",
       "      <td>0.356198</td>\n",
       "      <td>0.994971</td>\n",
       "      <td>22.875003</td>\n",
       "      <td>0.469794</td>\n",
       "      <td>1.161075</td>\n",
       "      <td>0.616226</td>\n",
       "      <td>0.934375</td>\n",
       "      <td>1.938383</td>\n",
       "      <td>1.228536</td>\n",
       "    </tr>\n",
       "    <tr>\n",
       "      <th>min</th>\n",
       "      <td>29.000000</td>\n",
       "      <td>0.000000</td>\n",
       "      <td>1.000000</td>\n",
       "      <td>94.000000</td>\n",
       "      <td>126.000000</td>\n",
       "      <td>0.000000</td>\n",
       "      <td>0.000000</td>\n",
       "      <td>71.000000</td>\n",
       "      <td>0.000000</td>\n",
       "      <td>0.000000</td>\n",
       "      <td>1.000000</td>\n",
       "      <td>0.000000</td>\n",
       "      <td>3.000000</td>\n",
       "      <td>0.000000</td>\n",
       "    </tr>\n",
       "    <tr>\n",
       "      <th>25%</th>\n",
       "      <td>48.000000</td>\n",
       "      <td>0.000000</td>\n",
       "      <td>3.000000</td>\n",
       "      <td>120.000000</td>\n",
       "      <td>211.000000</td>\n",
       "      <td>0.000000</td>\n",
       "      <td>0.000000</td>\n",
       "      <td>133.500000</td>\n",
       "      <td>0.000000</td>\n",
       "      <td>0.000000</td>\n",
       "      <td>1.000000</td>\n",
       "      <td>0.000000</td>\n",
       "      <td>3.000000</td>\n",
       "      <td>0.000000</td>\n",
       "    </tr>\n",
       "    <tr>\n",
       "      <th>50%</th>\n",
       "      <td>56.000000</td>\n",
       "      <td>1.000000</td>\n",
       "      <td>3.000000</td>\n",
       "      <td>130.000000</td>\n",
       "      <td>241.000000</td>\n",
       "      <td>0.000000</td>\n",
       "      <td>1.000000</td>\n",
       "      <td>153.000000</td>\n",
       "      <td>0.000000</td>\n",
       "      <td>0.800000</td>\n",
       "      <td>2.000000</td>\n",
       "      <td>0.000000</td>\n",
       "      <td>3.000000</td>\n",
       "      <td>0.000000</td>\n",
       "    </tr>\n",
       "    <tr>\n",
       "      <th>75%</th>\n",
       "      <td>61.000000</td>\n",
       "      <td>1.000000</td>\n",
       "      <td>4.000000</td>\n",
       "      <td>140.000000</td>\n",
       "      <td>275.000000</td>\n",
       "      <td>0.000000</td>\n",
       "      <td>2.000000</td>\n",
       "      <td>166.000000</td>\n",
       "      <td>1.000000</td>\n",
       "      <td>1.600000</td>\n",
       "      <td>2.000000</td>\n",
       "      <td>1.000000</td>\n",
       "      <td>7.000000</td>\n",
       "      <td>2.000000</td>\n",
       "    </tr>\n",
       "    <tr>\n",
       "      <th>max</th>\n",
       "      <td>77.000000</td>\n",
       "      <td>1.000000</td>\n",
       "      <td>4.000000</td>\n",
       "      <td>200.000000</td>\n",
       "      <td>564.000000</td>\n",
       "      <td>1.000000</td>\n",
       "      <td>2.000000</td>\n",
       "      <td>202.000000</td>\n",
       "      <td>1.000000</td>\n",
       "      <td>6.200000</td>\n",
       "      <td>3.000000</td>\n",
       "      <td>3.000000</td>\n",
       "      <td>7.000000</td>\n",
       "      <td>4.000000</td>\n",
       "    </tr>\n",
       "  </tbody>\n",
       "</table>\n",
       "</div>"
      ],
      "text/plain": [
       "              age         sex          cp    trestbps        chol         fbs  \\\n",
       "count  303.000000  303.000000  303.000000  303.000000  303.000000  303.000000   \n",
       "mean    54.438944    0.679868    3.158416  131.689769  246.693069    0.148515   \n",
       "std      9.038662    0.467299    0.960126   17.599748   51.776918    0.356198   \n",
       "min     29.000000    0.000000    1.000000   94.000000  126.000000    0.000000   \n",
       "25%     48.000000    0.000000    3.000000  120.000000  211.000000    0.000000   \n",
       "50%     56.000000    1.000000    3.000000  130.000000  241.000000    0.000000   \n",
       "75%     61.000000    1.000000    4.000000  140.000000  275.000000    0.000000   \n",
       "max     77.000000    1.000000    4.000000  200.000000  564.000000    1.000000   \n",
       "\n",
       "          restecg     thalach       exang     oldpeak       slope          ca  \\\n",
       "count  303.000000  303.000000  303.000000  303.000000  303.000000  303.000000   \n",
       "mean     0.990099  149.607261    0.326733    1.039604    1.600660    0.663366   \n",
       "std      0.994971   22.875003    0.469794    1.161075    0.616226    0.934375   \n",
       "min      0.000000   71.000000    0.000000    0.000000    1.000000    0.000000   \n",
       "25%      0.000000  133.500000    0.000000    0.000000    1.000000    0.000000   \n",
       "50%      1.000000  153.000000    0.000000    0.800000    2.000000    0.000000   \n",
       "75%      2.000000  166.000000    1.000000    1.600000    2.000000    1.000000   \n",
       "max      2.000000  202.000000    1.000000    6.200000    3.000000    3.000000   \n",
       "\n",
       "             thal         hds  \n",
       "count  303.000000  303.000000  \n",
       "mean     4.722772    0.937294  \n",
       "std      1.938383    1.228536  \n",
       "min      3.000000    0.000000  \n",
       "25%      3.000000    0.000000  \n",
       "50%      3.000000    0.000000  \n",
       "75%      7.000000    2.000000  \n",
       "max      7.000000    4.000000  "
      ]
     },
     "execution_count": 372,
     "metadata": {},
     "output_type": "execute_result"
    }
   ],
   "source": [
    "print(data.isna().sum())\n",
    "data.describe()"
   ]
  },
  {
   "cell_type": "markdown",
   "metadata": {},
   "source": [
    "As we can see there are no NAs and the descriptive statistics for each column don't show any obvious mistakes or missing values.\n"
   ]
  },
  {
   "cell_type": "markdown",
   "metadata": {},
   "source": [
    "Since we don't have any more missing values we can make an adjustment to the dataset and convert our target variable 'hds' int a binary variable, where lack of a disease is encoded by 0 and a presence of a disease coded as 1. This is due to the fact that we want to discover the presence not to differentiate between their types."
   ]
  },
  {
   "cell_type": "code",
   "execution_count": 373,
   "metadata": {},
   "outputs": [
    {
     "data": {
      "text/html": [
       "<div>\n",
       "<style scoped>\n",
       "    .dataframe tbody tr th:only-of-type {\n",
       "        vertical-align: middle;\n",
       "    }\n",
       "\n",
       "    .dataframe tbody tr th {\n",
       "        vertical-align: top;\n",
       "    }\n",
       "\n",
       "    .dataframe thead th {\n",
       "        text-align: right;\n",
       "    }\n",
       "</style>\n",
       "<table border=\"1\" class=\"dataframe\">\n",
       "  <thead>\n",
       "    <tr style=\"text-align: right;\">\n",
       "      <th></th>\n",
       "      <th>age</th>\n",
       "      <th>sex</th>\n",
       "      <th>cp</th>\n",
       "      <th>trestbps</th>\n",
       "      <th>chol</th>\n",
       "      <th>fbs</th>\n",
       "      <th>restecg</th>\n",
       "      <th>thalach</th>\n",
       "      <th>exang</th>\n",
       "      <th>oldpeak</th>\n",
       "      <th>slope</th>\n",
       "      <th>ca</th>\n",
       "      <th>thal</th>\n",
       "      <th>hds</th>\n",
       "    </tr>\n",
       "  </thead>\n",
       "  <tbody>\n",
       "    <tr>\n",
       "      <th>0</th>\n",
       "      <td>63.0</td>\n",
       "      <td>1.0</td>\n",
       "      <td>1.0</td>\n",
       "      <td>145.0</td>\n",
       "      <td>233.0</td>\n",
       "      <td>1.0</td>\n",
       "      <td>2.0</td>\n",
       "      <td>150.0</td>\n",
       "      <td>0.0</td>\n",
       "      <td>2.3</td>\n",
       "      <td>3.0</td>\n",
       "      <td>0.0</td>\n",
       "      <td>6.0</td>\n",
       "      <td>0</td>\n",
       "    </tr>\n",
       "    <tr>\n",
       "      <th>1</th>\n",
       "      <td>67.0</td>\n",
       "      <td>1.0</td>\n",
       "      <td>4.0</td>\n",
       "      <td>160.0</td>\n",
       "      <td>286.0</td>\n",
       "      <td>0.0</td>\n",
       "      <td>2.0</td>\n",
       "      <td>108.0</td>\n",
       "      <td>1.0</td>\n",
       "      <td>1.5</td>\n",
       "      <td>2.0</td>\n",
       "      <td>3.0</td>\n",
       "      <td>3.0</td>\n",
       "      <td>1</td>\n",
       "    </tr>\n",
       "    <tr>\n",
       "      <th>2</th>\n",
       "      <td>67.0</td>\n",
       "      <td>1.0</td>\n",
       "      <td>4.0</td>\n",
       "      <td>120.0</td>\n",
       "      <td>229.0</td>\n",
       "      <td>0.0</td>\n",
       "      <td>2.0</td>\n",
       "      <td>129.0</td>\n",
       "      <td>1.0</td>\n",
       "      <td>2.6</td>\n",
       "      <td>2.0</td>\n",
       "      <td>2.0</td>\n",
       "      <td>7.0</td>\n",
       "      <td>1</td>\n",
       "    </tr>\n",
       "    <tr>\n",
       "      <th>3</th>\n",
       "      <td>37.0</td>\n",
       "      <td>1.0</td>\n",
       "      <td>3.0</td>\n",
       "      <td>130.0</td>\n",
       "      <td>250.0</td>\n",
       "      <td>0.0</td>\n",
       "      <td>0.0</td>\n",
       "      <td>187.0</td>\n",
       "      <td>0.0</td>\n",
       "      <td>3.5</td>\n",
       "      <td>3.0</td>\n",
       "      <td>0.0</td>\n",
       "      <td>3.0</td>\n",
       "      <td>0</td>\n",
       "    </tr>\n",
       "    <tr>\n",
       "      <th>4</th>\n",
       "      <td>41.0</td>\n",
       "      <td>0.0</td>\n",
       "      <td>2.0</td>\n",
       "      <td>130.0</td>\n",
       "      <td>204.0</td>\n",
       "      <td>0.0</td>\n",
       "      <td>2.0</td>\n",
       "      <td>172.0</td>\n",
       "      <td>0.0</td>\n",
       "      <td>1.4</td>\n",
       "      <td>1.0</td>\n",
       "      <td>0.0</td>\n",
       "      <td>3.0</td>\n",
       "      <td>0</td>\n",
       "    </tr>\n",
       "  </tbody>\n",
       "</table>\n",
       "</div>"
      ],
      "text/plain": [
       "    age  sex   cp  trestbps   chol  fbs  restecg  thalach  exang  oldpeak  \\\n",
       "0  63.0  1.0  1.0     145.0  233.0  1.0      2.0    150.0    0.0      2.3   \n",
       "1  67.0  1.0  4.0     160.0  286.0  0.0      2.0    108.0    1.0      1.5   \n",
       "2  67.0  1.0  4.0     120.0  229.0  0.0      2.0    129.0    1.0      2.6   \n",
       "3  37.0  1.0  3.0     130.0  250.0  0.0      0.0    187.0    0.0      3.5   \n",
       "4  41.0  0.0  2.0     130.0  204.0  0.0      2.0    172.0    0.0      1.4   \n",
       "\n",
       "   slope   ca  thal  hds  \n",
       "0    3.0  0.0   6.0    0  \n",
       "1    2.0  3.0   3.0    1  \n",
       "2    2.0  2.0   7.0    1  \n",
       "3    3.0  0.0   3.0    0  \n",
       "4    1.0  0.0   3.0    0  "
      ]
     },
     "execution_count": 373,
     "metadata": {},
     "output_type": "execute_result"
    }
   ],
   "source": [
    "data.loc[data[\"hds\"] > 0, \"hds\"] = 1\n",
    "data.head()"
   ]
  },
  {
   "cell_type": "code",
   "execution_count": 374,
   "metadata": {},
   "outputs": [
    {
     "data": {
      "image/png": "[encoded data removed]",
      "text/plain": [
       "<Figure size 432x288 with 1 Axes>"
      ]
     },
     "metadata": {
      "needs_background": "light"
     },
     "output_type": "display_data"
    }
   ],
   "source": [
    "import matplotlib.pyplot as plt\n",
    "\n",
    "fig = plt.figure()\n",
    "ax = fig.add_axes([0, 0, 1, 1])\n",
    "\n",
    "values = [\"No disease\", \"Disease present\"]\n",
    "counts = data.hds.value_counts()\n",
    "\n",
    "ax.bar(values, counts)\n",
    "plt.show()"
   ]
  },
  {
   "cell_type": "markdown",
   "metadata": {},
   "source": [
    "We can observe that the number of patients with and without heart disease is more or less balanced across the dataset. What would probably be interesting is how the presence of the heart disease is distributed among certain ages. We can see it on the plot below."
   ]
  },
  {
   "cell_type": "code",
   "execution_count": 375,
   "metadata": {},
   "outputs": [
    {
     "data": {
      "text/plain": [
       "<matplotlib.axes._subplots.AxesSubplot at 0x23636b1eac8>"
      ]
     },
     "execution_count": 375,
     "metadata": {},
     "output_type": "execute_result"
    },
    {
     "data": {
      "image/png": "[encoded data removed]",
      "text/plain": [
       "<Figure size 1008x504 with 1 Axes>"
      ]
     },
     "metadata": {
      "needs_background": "light"
     },
     "output_type": "display_data"
    }
   ],
   "source": [
    "no_disease_age = data.loc[data[\"hds\"] == 0, \"age\"].value_counts()\n",
    "disease_age = data.loc[data[\"hds\"] == 1, \"age\"].value_counts()\n",
    "\n",
    "bar_data = pd.concat([no_disease_age, disease_age], axis=1)\n",
    "bar_data.columns = [\"No disease\", \"Disease present\"]\n",
    "\n",
    "bar_data.plot.bar(figsize=(14,7), stacked = True)"
   ]
  },
  {
   "cell_type": "markdown",
   "metadata": {},
   "source": [
    "We can observe that up until the age of 55 the percentage of patients with no disease is higher than those with disease, but at the age of 55 till the age of 64 the tendency is opposite. After that it varies but the sample sizes of elder people are also getting smaller so it's not as objective as with the bigger samples.\n",
    "***"
   ]
  },
  {
   "cell_type": "markdown",
   "metadata": {},
   "source": [
    "## Models\n",
    "In this chapter I will try and estimate 3 different types of models, that is: KNN, SVM and Logistic Regression. A comparison of those 3 methods could potentially give some interesting insight as well as enable us to compare their predictive power. In order to get good results we must first conduct binarization of nominal variables and possibly standarization of numerical ones."
   ]
  },
  {
   "cell_type": "markdown",
   "metadata": {},
   "source": [
    "### K-Nearest Neighbors\n",
    "In order to use KNN efficiently we will first one-hot encode all the nominal variables from our dataset and standardize numerical ones. Then we will try to estimate KNN model for a dataset with standardized numerical variables and for the one without and see which yields better results."
   ]
  },
  {
   "cell_type": "code",
   "execution_count": 376,
   "metadata": {},
   "outputs": [
    {
     "name": "stdout",
     "output_type": "stream",
     "text": [
      "(303, 12)\n"
     ]
    },
    {
     "data": {
      "text/html": [
       "<div>\n",
       "<style scoped>\n",
       "    .dataframe tbody tr th:only-of-type {\n",
       "        vertical-align: middle;\n",
       "    }\n",
       "\n",
       "    .dataframe tbody tr th {\n",
       "        vertical-align: top;\n",
       "    }\n",
       "\n",
       "    .dataframe thead th {\n",
       "        text-align: right;\n",
       "    }\n",
       "</style>\n",
       "<table border=\"1\" class=\"dataframe\">\n",
       "  <thead>\n",
       "    <tr style=\"text-align: right;\">\n",
       "      <th></th>\n",
       "      <th>age</th>\n",
       "      <th>trestbps</th>\n",
       "      <th>chol</th>\n",
       "      <th>thalach</th>\n",
       "      <th>oldpeak</th>\n",
       "      <th>cp_2.0</th>\n",
       "      <th>cp_3.0</th>\n",
       "      <th>cp_4.0</th>\n",
       "      <th>restecg_1.0</th>\n",
       "      <th>restecg_2.0</th>\n",
       "      <th>...</th>\n",
       "      <th>slope_3.0</th>\n",
       "      <th>ca_1.0</th>\n",
       "      <th>ca_2.0</th>\n",
       "      <th>ca_3.0</th>\n",
       "      <th>thal_6.0</th>\n",
       "      <th>thal_7.0</th>\n",
       "      <th>sex</th>\n",
       "      <th>exang</th>\n",
       "      <th>fbs</th>\n",
       "      <th>hds</th>\n",
       "    </tr>\n",
       "  </thead>\n",
       "  <tbody>\n",
       "    <tr>\n",
       "      <th>0</th>\n",
       "      <td>0.947160</td>\n",
       "      <td>0.756274</td>\n",
       "      <td>-0.264463</td>\n",
       "      <td>0.017169</td>\n",
       "      <td>1.085542</td>\n",
       "      <td>0</td>\n",
       "      <td>0</td>\n",
       "      <td>0</td>\n",
       "      <td>0</td>\n",
       "      <td>1</td>\n",
       "      <td>...</td>\n",
       "      <td>1</td>\n",
       "      <td>0</td>\n",
       "      <td>0</td>\n",
       "      <td>0</td>\n",
       "      <td>1</td>\n",
       "      <td>0</td>\n",
       "      <td>1.0</td>\n",
       "      <td>0.0</td>\n",
       "      <td>1.0</td>\n",
       "      <td>0</td>\n",
       "    </tr>\n",
       "    <tr>\n",
       "      <th>1</th>\n",
       "      <td>1.389703</td>\n",
       "      <td>1.608559</td>\n",
       "      <td>0.759159</td>\n",
       "      <td>-1.818896</td>\n",
       "      <td>0.396526</td>\n",
       "      <td>0</td>\n",
       "      <td>0</td>\n",
       "      <td>1</td>\n",
       "      <td>0</td>\n",
       "      <td>1</td>\n",
       "      <td>...</td>\n",
       "      <td>0</td>\n",
       "      <td>0</td>\n",
       "      <td>0</td>\n",
       "      <td>1</td>\n",
       "      <td>0</td>\n",
       "      <td>0</td>\n",
       "      <td>1.0</td>\n",
       "      <td>1.0</td>\n",
       "      <td>0.0</td>\n",
       "      <td>1</td>\n",
       "    </tr>\n",
       "    <tr>\n",
       "      <th>2</th>\n",
       "      <td>1.389703</td>\n",
       "      <td>-0.664201</td>\n",
       "      <td>-0.341717</td>\n",
       "      <td>-0.900864</td>\n",
       "      <td>1.343924</td>\n",
       "      <td>0</td>\n",
       "      <td>0</td>\n",
       "      <td>1</td>\n",
       "      <td>0</td>\n",
       "      <td>1</td>\n",
       "      <td>...</td>\n",
       "      <td>0</td>\n",
       "      <td>0</td>\n",
       "      <td>1</td>\n",
       "      <td>0</td>\n",
       "      <td>0</td>\n",
       "      <td>1</td>\n",
       "      <td>1.0</td>\n",
       "      <td>1.0</td>\n",
       "      <td>0.0</td>\n",
       "      <td>1</td>\n",
       "    </tr>\n",
       "    <tr>\n",
       "      <th>3</th>\n",
       "      <td>-1.929372</td>\n",
       "      <td>-0.096011</td>\n",
       "      <td>0.063869</td>\n",
       "      <td>1.634655</td>\n",
       "      <td>2.119067</td>\n",
       "      <td>0</td>\n",
       "      <td>1</td>\n",
       "      <td>0</td>\n",
       "      <td>0</td>\n",
       "      <td>0</td>\n",
       "      <td>...</td>\n",
       "      <td>1</td>\n",
       "      <td>0</td>\n",
       "      <td>0</td>\n",
       "      <td>0</td>\n",
       "      <td>0</td>\n",
       "      <td>0</td>\n",
       "      <td>1.0</td>\n",
       "      <td>0.0</td>\n",
       "      <td>0.0</td>\n",
       "      <td>0</td>\n",
       "    </tr>\n",
       "    <tr>\n",
       "      <th>4</th>\n",
       "      <td>-1.486829</td>\n",
       "      <td>-0.096011</td>\n",
       "      <td>-0.824558</td>\n",
       "      <td>0.978917</td>\n",
       "      <td>0.310399</td>\n",
       "      <td>1</td>\n",
       "      <td>0</td>\n",
       "      <td>0</td>\n",
       "      <td>0</td>\n",
       "      <td>1</td>\n",
       "      <td>...</td>\n",
       "      <td>0</td>\n",
       "      <td>0</td>\n",
       "      <td>0</td>\n",
       "      <td>0</td>\n",
       "      <td>0</td>\n",
       "      <td>0</td>\n",
       "      <td>0.0</td>\n",
       "      <td>0.0</td>\n",
       "      <td>0.0</td>\n",
       "      <td>0</td>\n",
       "    </tr>\n",
       "  </tbody>\n",
       "</table>\n",
       "<p>5 rows × 21 columns</p>\n",
       "</div>"
      ],
      "text/plain": [
       "        age  trestbps      chol   thalach   oldpeak  cp_2.0  cp_3.0  cp_4.0  \\\n",
       "0  0.947160  0.756274 -0.264463  0.017169  1.085542       0       0       0   \n",
       "1  1.389703  1.608559  0.759159 -1.818896  0.396526       0       0       1   \n",
       "2  1.389703 -0.664201 -0.341717 -0.900864  1.343924       0       0       1   \n",
       "3 -1.929372 -0.096011  0.063869  1.634655  2.119067       0       1       0   \n",
       "4 -1.486829 -0.096011 -0.824558  0.978917  0.310399       1       0       0   \n",
       "\n",
       "   restecg_1.0  restecg_2.0  ...  slope_3.0  ca_1.0  ca_2.0  ca_3.0  thal_6.0  \\\n",
       "0            0            1  ...          1       0       0       0         1   \n",
       "1            0            1  ...          0       0       0       1         0   \n",
       "2            0            1  ...          0       0       1       0         0   \n",
       "3            0            0  ...          1       0       0       0         0   \n",
       "4            0            1  ...          0       0       0       0         0   \n",
       "\n",
       "   thal_7.0  sex  exang  fbs  hds  \n",
       "0         0  1.0    0.0  1.0    0  \n",
       "1         0  1.0    1.0  0.0    1  \n",
       "2         1  1.0    1.0  0.0    1  \n",
       "3         0  1.0    0.0  0.0    0  \n",
       "4         0  0.0    0.0  0.0    0  \n",
       "\n",
       "[5 rows x 21 columns]"
      ]
     },
     "metadata": {},
     "output_type": "display_data"
    },
    {
     "data": {
      "text/html": [
       "<div>\n",
       "<style scoped>\n",
       "    .dataframe tbody tr th:only-of-type {\n",
       "        vertical-align: middle;\n",
       "    }\n",
       "\n",
       "    .dataframe tbody tr th {\n",
       "        vertical-align: top;\n",
       "    }\n",
       "\n",
       "    .dataframe thead th {\n",
       "        text-align: right;\n",
       "    }\n",
       "</style>\n",
       "<table border=\"1\" class=\"dataframe\">\n",
       "  <thead>\n",
       "    <tr style=\"text-align: right;\">\n",
       "      <th></th>\n",
       "      <th>age</th>\n",
       "      <th>trestbps</th>\n",
       "      <th>chol</th>\n",
       "      <th>thalach</th>\n",
       "      <th>oldpeak</th>\n",
       "      <th>cp_2.0</th>\n",
       "      <th>cp_3.0</th>\n",
       "      <th>cp_4.0</th>\n",
       "      <th>restecg_1.0</th>\n",
       "      <th>restecg_2.0</th>\n",
       "      <th>...</th>\n",
       "      <th>slope_3.0</th>\n",
       "      <th>ca_1.0</th>\n",
       "      <th>ca_2.0</th>\n",
       "      <th>ca_3.0</th>\n",
       "      <th>thal_6.0</th>\n",
       "      <th>thal_7.0</th>\n",
       "      <th>sex</th>\n",
       "      <th>exang</th>\n",
       "      <th>fbs</th>\n",
       "      <th>hds</th>\n",
       "    </tr>\n",
       "  </thead>\n",
       "  <tbody>\n",
       "    <tr>\n",
       "      <th>0</th>\n",
       "      <td>63.0</td>\n",
       "      <td>145.0</td>\n",
       "      <td>233.0</td>\n",
       "      <td>150.0</td>\n",
       "      <td>2.3</td>\n",
       "      <td>0</td>\n",
       "      <td>0</td>\n",
       "      <td>0</td>\n",
       "      <td>0</td>\n",
       "      <td>1</td>\n",
       "      <td>...</td>\n",
       "      <td>1</td>\n",
       "      <td>0</td>\n",
       "      <td>0</td>\n",
       "      <td>0</td>\n",
       "      <td>1</td>\n",
       "      <td>0</td>\n",
       "      <td>1.0</td>\n",
       "      <td>0.0</td>\n",
       "      <td>1.0</td>\n",
       "      <td>0</td>\n",
       "    </tr>\n",
       "    <tr>\n",
       "      <th>1</th>\n",
       "      <td>67.0</td>\n",
       "      <td>160.0</td>\n",
       "      <td>286.0</td>\n",
       "      <td>108.0</td>\n",
       "      <td>1.5</td>\n",
       "      <td>0</td>\n",
       "      <td>0</td>\n",
       "      <td>1</td>\n",
       "      <td>0</td>\n",
       "      <td>1</td>\n",
       "      <td>...</td>\n",
       "      <td>0</td>\n",
       "      <td>0</td>\n",
       "      <td>0</td>\n",
       "      <td>1</td>\n",
       "      <td>0</td>\n",
       "      <td>0</td>\n",
       "      <td>1.0</td>\n",
       "      <td>1.0</td>\n",
       "      <td>0.0</td>\n",
       "      <td>1</td>\n",
       "    </tr>\n",
       "    <tr>\n",
       "      <th>2</th>\n",
       "      <td>67.0</td>\n",
       "      <td>120.0</td>\n",
       "      <td>229.0</td>\n",
       "      <td>129.0</td>\n",
       "      <td>2.6</td>\n",
       "      <td>0</td>\n",
       "      <td>0</td>\n",
       "      <td>1</td>\n",
       "      <td>0</td>\n",
       "      <td>1</td>\n",
       "      <td>...</td>\n",
       "      <td>0</td>\n",
       "      <td>0</td>\n",
       "      <td>1</td>\n",
       "      <td>0</td>\n",
       "      <td>0</td>\n",
       "      <td>1</td>\n",
       "      <td>1.0</td>\n",
       "      <td>1.0</td>\n",
       "      <td>0.0</td>\n",
       "      <td>1</td>\n",
       "    </tr>\n",
       "    <tr>\n",
       "      <th>3</th>\n",
       "      <td>37.0</td>\n",
       "      <td>130.0</td>\n",
       "      <td>250.0</td>\n",
       "      <td>187.0</td>\n",
       "      <td>3.5</td>\n",
       "      <td>0</td>\n",
       "      <td>1</td>\n",
       "      <td>0</td>\n",
       "      <td>0</td>\n",
       "      <td>0</td>\n",
       "      <td>...</td>\n",
       "      <td>1</td>\n",
       "      <td>0</td>\n",
       "      <td>0</td>\n",
       "      <td>0</td>\n",
       "      <td>0</td>\n",
       "      <td>0</td>\n",
       "      <td>1.0</td>\n",
       "      <td>0.0</td>\n",
       "      <td>0.0</td>\n",
       "      <td>0</td>\n",
       "    </tr>\n",
       "    <tr>\n",
       "      <th>4</th>\n",
       "      <td>41.0</td>\n",
       "      <td>130.0</td>\n",
       "      <td>204.0</td>\n",
       "      <td>172.0</td>\n",
       "      <td>1.4</td>\n",
       "      <td>1</td>\n",
       "      <td>0</td>\n",
       "      <td>0</td>\n",
       "      <td>0</td>\n",
       "      <td>1</td>\n",
       "      <td>...</td>\n",
       "      <td>0</td>\n",
       "      <td>0</td>\n",
       "      <td>0</td>\n",
       "      <td>0</td>\n",
       "      <td>0</td>\n",
       "      <td>0</td>\n",
       "      <td>0.0</td>\n",
       "      <td>0.0</td>\n",
       "      <td>0.0</td>\n",
       "      <td>0</td>\n",
       "    </tr>\n",
       "  </tbody>\n",
       "</table>\n",
       "<p>5 rows × 21 columns</p>\n",
       "</div>"
      ],
      "text/plain": [
       "    age  trestbps   chol  thalach  oldpeak  cp_2.0  cp_3.0  cp_4.0  \\\n",
       "0  63.0     145.0  233.0    150.0      2.3       0       0       0   \n",
       "1  67.0     160.0  286.0    108.0      1.5       0       0       1   \n",
       "2  67.0     120.0  229.0    129.0      2.6       0       0       1   \n",
       "3  37.0     130.0  250.0    187.0      3.5       0       1       0   \n",
       "4  41.0     130.0  204.0    172.0      1.4       1       0       0   \n",
       "\n",
       "   restecg_1.0  restecg_2.0  ...  slope_3.0  ca_1.0  ca_2.0  ca_3.0  thal_6.0  \\\n",
       "0            0            1  ...          1       0       0       0         1   \n",
       "1            0            1  ...          0       0       0       1         0   \n",
       "2            0            1  ...          0       0       1       0         0   \n",
       "3            0            0  ...          1       0       0       0         0   \n",
       "4            0            1  ...          0       0       0       0         0   \n",
       "\n",
       "   thal_7.0  sex  exang  fbs  hds  \n",
       "0         0  1.0    0.0  1.0    0  \n",
       "1         0  1.0    1.0  0.0    1  \n",
       "2         1  1.0    1.0  0.0    1  \n",
       "3         0  1.0    0.0  0.0    0  \n",
       "4         0  0.0    0.0  0.0    0  \n",
       "\n",
       "[5 rows x 21 columns]"
      ]
     },
     "metadata": {},
     "output_type": "display_data"
    }
   ],
   "source": [
    "nominal = data[[\"cp\", \"restecg\", \"slope\", \"ca\", \"thal\"]].astype(object)\n",
    "numerical = data[[\"age\", \"trestbps\", \"chol\", \"thalach\", \"oldpeak\"]]\n",
    "\n",
    "dummy = pd.get_dummies(nominal, drop_first=True)\n",
    "print(dummy.shape)\n",
    "\n",
    "numerical_std = numerical.apply(lambda x: (x-x.mean())/x.std())\n",
    "\n",
    "data_bin = pd.concat([numerical, dummy, data[[\"sex\", \"exang\", \"fbs\", \"hds\"]]], axis=1)\n",
    "data_bin_norm = pd.concat([numerical_std, dummy, data[[\"sex\", \"exang\", \"fbs\", \"hds\"]]], axis=1)\n",
    "display(data_bin_norm.head())\n",
    "display(data_bin.head())"
   ]
  },
  {
   "cell_type": "markdown",
   "metadata": {},
   "source": [
    "Having the standarization and one-hot encoding sorted out we can take a look at the KNN model with all the variables and find out what is the optimal number of neighbors. We take into consideration numbers from 1 to 17 since we have 303 rows  and 17 is closest square root of that number. We also split the data into 70% train set and 30% test set. We then perform grid search across the range of values of neighbors. What it does is it performs, in our case, a 5-fold cross validation on the training set, finds the hyperparameter value for which the mean test accuracy of those cross validations is the highest. We can then use the model with that hyperparameter to predict on the test data, which wasn't used in the cross validation process."
   ]
  },
  {
   "cell_type": "markdown",
   "metadata": {},
   "source": [
    "We will also create a dataframe to store the metrics of our models in one place so that they are easily comparable. For that I chose two metrics, ROC area under curve score and accuracy, which should be a good metric in our case, since we don't have the case of having drastically imbalanced target variable."
   ]
  },
  {
   "cell_type": "code",
   "execution_count": 377,
   "metadata": {},
   "outputs": [],
   "source": [
    "results = pd.DataFrame(columns = [\"Model\", \"ROC AUC score\", \"Accuracy\"])"
   ]
  },
  {
   "cell_type": "markdown",
   "metadata": {},
   "source": [
    "First we will try and predict using only binarized data, with numerical values intact. Then we will compare the results with binarized and standardized data."
   ]
  },
  {
   "cell_type": "code",
   "execution_count": 378,
   "metadata": {},
   "outputs": [
    {
     "name": "stdout",
     "output_type": "stream",
     "text": [
      "Tuned KNN number of neighbors: {'n_neighbors': 5} \n",
      "\n",
      "[[36 16]\n",
      " [17 22]]\n",
      "              precision    recall  f1-score   support\n",
      "\n",
      "           0       0.68      0.69      0.69        52\n",
      "           1       0.58      0.56      0.57        39\n",
      "\n",
      "    accuracy                           0.64        91\n",
      "   macro avg       0.63      0.63      0.63        91\n",
      "weighted avg       0.64      0.64      0.64        91\n",
      "\n",
      "ROC AUC score: 0.6282051282051282\n",
      "Test accuracy: 0.6373626373626373\n",
      "Train accuracy: 0.7452830188679245\n"
     ]
    }
   ],
   "source": [
    "from sklearn.neighbors import KNeighborsClassifier \n",
    "from sklearn.metrics import classification_report, confusion_matrix, roc_auc_score\n",
    "from sklearn.model_selection import train_test_split\n",
    "from sklearn.model_selection import GridSearchCV\n",
    "\n",
    "y_norm = data_bin['hds'].values\n",
    "X_norm = data_bin.drop('hds', axis = 1).values\n",
    "\n",
    "neighbors = np.arange(1, 18)\n",
    "param_grid = {'n_neighbors': neighbors}\n",
    "\n",
    "X_train, X_test, y_train, y_test = train_test_split(X_norm, y_norm, test_size = 0.3, random_state = 2020)\n",
    "\n",
    "knn = KNeighborsClassifier()\n",
    "knn_cv = GridSearchCV(knn, param_grid, cv = 5, iid = True)\n",
    "knn_cv.fit(X_train, y_train)\n",
    "y_pred = knn_cv.predict(X_test)\n",
    "\n",
    "print(\"Tuned KNN number of neighbors: {} \\n\".format(knn_cv.best_params_))\n",
    "print(confusion_matrix(y_test, y_pred))\n",
    "print(classification_report(y_test, y_pred))\n",
    "print(\"ROC AUC score: {}\" .format(roc_auc_score(y_test, y_pred)))\n",
    "print(\"Test accuracy: {}\" .format(knn_cv.score(X_test, y_test)))\n",
    "print(\"Train accuracy: {}\" .format(knn_cv.score(X_train, y_train)))"
   ]
  },
  {
   "cell_type": "markdown",
   "metadata": {},
   "source": [
    "As we can clearly see the results are far from satisfying with barely 63% accuracy. Also the train accuracy is significantly higher tha test accuracy which may suggest a model overfitting. Let's try estimating again using standardized data."
   ]
  },
  {
   "cell_type": "code",
   "execution_count": 379,
   "metadata": {},
   "outputs": [
    {
     "name": "stdout",
     "output_type": "stream",
     "text": [
      "Tuned KNN number of neighbors: {'n_neighbors': 6} \n",
      "\n",
      "[[49  3]\n",
      " [12 27]]\n",
      "              precision    recall  f1-score   support\n",
      "\n",
      "           0       0.80      0.94      0.87        52\n",
      "           1       0.90      0.69      0.78        39\n",
      "\n",
      "    accuracy                           0.84        91\n",
      "   macro avg       0.85      0.82      0.82        91\n",
      "weighted avg       0.84      0.84      0.83        91\n",
      "\n",
      "ROC AUC score: 0.8173076923076923\n",
      "Test accuracy: 0.8351648351648352\n",
      "Train accuracy: 0.8018867924528302\n"
     ]
    }
   ],
   "source": [
    "y_norm = data_bin_norm['hds'].values\n",
    "X_norm = data_bin_norm.drop('hds', axis = 1).values\n",
    "\n",
    "neighbors = np.arange(1, 18)\n",
    "param_grid = {'n_neighbors': neighbors}\n",
    "\n",
    "X_train, X_test, y_train, y_test = train_test_split(X_norm, y_norm, test_size = 0.3, random_state = 2020)\n",
    "\n",
    "knn = KNeighborsClassifier()\n",
    "knn_cv = GridSearchCV(knn, param_grid, cv = 5, iid = True)\n",
    "knn_cv.fit(X_train, y_train)\n",
    "y_pred = knn_cv.predict(X_test)\n",
    "\n",
    "print(\"Tuned KNN number of neighbors: {} \\n\".format(knn_cv.best_params_))\n",
    "print(confusion_matrix(y_test, y_pred))\n",
    "print(classification_report(y_test, y_pred))\n",
    "print(\"ROC AUC score: {}\" .format(roc_auc_score(y_test, y_pred)))\n",
    "print(\"Test accuracy: {}\" .format(knn_cv.score(X_test, y_test)))\n",
    "print(\"Train accuracy: {}\" .format(knn_cv.score(X_train, y_train)))"
   ]
  },
  {
   "cell_type": "code",
   "execution_count": 380,
   "metadata": {},
   "outputs": [],
   "source": [
    "results = results.append(pd.DataFrame({\"Model\": \"KNN-6\", \n",
    "                             \"ROC AUC score\": roc_auc_score(y_test, y_pred),\n",
    "                             \"Accuracy\": knn_cv.score(X_test, y_test)},\n",
    "                             index=[0]),\n",
    "                         ignore_index=True)"
   ]
  },
  {
   "cell_type": "markdown",
   "metadata": {},
   "source": [
    "We can observe a significant improvement in predictiong power of the KNN algorithm and so we will stick with the second dataset for the rest of the project. As far as the above model is concerned the optimal number of parameters which yields the highest accuracy is for 6 neighbors. We can also see a confusion matrix which tells us how our model classified observations from the test set. We have 49 TPs, 3 FPs, 12 FNs and 27 TNs. That means our model predicted correctly 76 (TP + TN) out of 91 patients. From 15 wrongly predicted, 3 are those which didn't have disease but were predicted to have and 12 are those which have disease but were predicted as if they had not. This seems to be the biggest weakness of this particular model. It is shown directly by the recall value for 1 (0.69), which is significantly smaller than the rest of the metrics. The ROC area under curve on test data also is equal to 0.81, which isn't a bad result but can probably be improved. Last output shows us both the test and train set accuracies, which are fairly similar, so there seems to be neither overfitting nor underfitting problem."
   ]
  },
  {
   "cell_type": "markdown",
   "metadata": {},
   "source": [
    "### Support Vector Machines\n",
    "Second model we will be performing is a Support Vector Machine. Following the pattern of KNN it benefits from having the supplied data binarized and standardized. However, SVMs can be linear and non-linear so we will check which one of them is better suited to our data. This time, the parameter passed to param_grid, along which GridSearchCV searches the best accuracy, is 'C' parameter standing for regularization. The boundaries for the range of values for parameters were narrowed down by previously testing different values, so that the computation wouldn't take ages.\n"
   ]
  },
  {
   "cell_type": "code",
   "execution_count": 381,
   "metadata": {},
   "outputs": [
    {
     "name": "stdout",
     "output_type": "stream",
     "text": [
      "Tuned C parameter: {'C': 4.899999999999998} \n",
      "\n",
      "[[49  3]\n",
      " [ 9 30]]\n",
      "              precision    recall  f1-score   support\n",
      "\n",
      "           0       0.84      0.94      0.89        52\n",
      "           1       0.91      0.77      0.83        39\n",
      "\n",
      "    accuracy                           0.87        91\n",
      "   macro avg       0.88      0.86      0.86        91\n",
      "weighted avg       0.87      0.87      0.87        91\n",
      "\n",
      "ROC AUC score: 0.8557692307692306\n",
      "Test accuracy: 0.8681318681318682\n",
      "Train accuracy: 0.8679245283018868\n"
     ]
    }
   ],
   "source": [
    "from sklearn.svm import SVC\n",
    "\n",
    "c = np.arange(1, 7, 0.15)\n",
    "param_grid = {'C': c}\n",
    "\n",
    "svc = SVC(cache_size = 500, kernel = 'linear',\n",
    "          max_iter = -1, probability = True)\n",
    "svc_cv = GridSearchCV(svc, param_grid, cv = 5, iid = True)\n",
    "svc_cv.fit(X_train, y_train)\n",
    "y_pred = svc_cv.predict(X_test)\n",
    "\n",
    "print(\"Tuned C parameter: {} \\n\".format(svc_cv.best_params_))\n",
    "print(confusion_matrix(y_test, y_pred))\n",
    "print(classification_report(y_test, y_pred))\n",
    "print(\"ROC AUC score: {}\" .format(roc_auc_score(y_test, y_pred)))\n",
    "print(\"Test accuracy: {}\" .format(svc_cv.score(X_test, y_test)))\n",
    "print(\"Train accuracy: {}\" .format(svc_cv.score(X_train, y_train)))"
   ]
  },
  {
   "cell_type": "code",
   "execution_count": 382,
   "metadata": {},
   "outputs": [],
   "source": [
    "results = results.append(pd.DataFrame({\"Model\": \"SVM linear\", \n",
    "                             \"ROC AUC score\": roc_auc_score(y_test, y_pred),\n",
    "                             \"Accuracy\": svc_cv.score(X_test, y_test)},\n",
    "                             index=[0]),\n",
    "                         ignore_index=True)"
   ]
  },
  {
   "cell_type": "markdown",
   "metadata": {},
   "source": [
    "What we can see from the output is that the linear version of svm produces better results than KNN algorithm altogether. The tuned paramter for which the accuracy is the highest is 4.9. Test and train accuracy are almost equal to each other and the ROC AUC score higher by around 0.04 in comparison to KNN. The model definitely improved in terms of predictin diseased patients, as it predictet 3 more TNs. The number of TPs stayed the same as previously."
   ]
  },
  {
   "cell_type": "markdown",
   "metadata": {},
   "source": [
    "Next on we will try both 'poly' and 'rbf' kernels to try and see if the results are any better than for linear kernel."
   ]
  },
  {
   "cell_type": "code",
   "execution_count": 383,
   "metadata": {},
   "outputs": [
    {
     "name": "stdout",
     "output_type": "stream",
     "text": [
      "Tuned C and degree parameters: {'C': 3.3999999999999986, 'degree': 2} \n",
      "\n",
      "[[50  2]\n",
      " [12 27]]\n",
      "              precision    recall  f1-score   support\n",
      "\n",
      "           0       0.81      0.96      0.88        52\n",
      "           1       0.93      0.69      0.79        39\n",
      "\n",
      "    accuracy                           0.85        91\n",
      "   macro avg       0.87      0.83      0.84        91\n",
      "weighted avg       0.86      0.85      0.84        91\n",
      "\n",
      "ROC AUC score: 0.826923076923077\n",
      "Test accuracy: 0.8461538461538461\n",
      "Train accuracy: 0.8584905660377359\n"
     ]
    }
   ],
   "source": [
    "c = np.arange(1, 7, 0.15)\n",
    "degree = np.arange(2, 6, 1)\n",
    "param_grid = {'C': c, 'degree': degree}\n",
    "\n",
    "svc = SVC(cache_size = 500, kernel = 'poly', max_iter = -1, \n",
    "          probability = True, gamma = 'auto')\n",
    "svc_cv = GridSearchCV(svc, param_grid, cv = 5, iid = True)\n",
    "svc_cv.fit(X_train, y_train)\n",
    "y_pred = svc_cv.predict(X_test)\n",
    "\n",
    "print(\"Tuned C and degree parameters: {} \\n\".format(svc_cv.best_params_))\n",
    "print(confusion_matrix(y_test, y_pred))\n",
    "print(classification_report(y_test, y_pred))\n",
    "print(\"ROC AUC score: {}\" .format(roc_auc_score(y_test, y_pred)))\n",
    "print(\"Test accuracy: {}\" .format(svc_cv.score(X_test, y_test)))\n",
    "print(\"Train accuracy: {}\" .format(svc_cv.score(X_train, y_train)))"
   ]
  },
  {
   "cell_type": "code",
   "execution_count": 384,
   "metadata": {},
   "outputs": [],
   "source": [
    "results = results.append(pd.DataFrame({\"Model\": \"SVM poly\", \n",
    "                             \"ROC AUC score\": roc_auc_score(y_test, y_pred),\n",
    "                             \"Accuracy\": svc_cv.score(X_test, y_test)},\n",
    "                             index=[0]),\n",
    "                         ignore_index=True)"
   ]
  },
  {
   "cell_type": "markdown",
   "metadata": {},
   "source": [
    "Using 'poly' kernel and searching through the same values of 'C' and degress from set [2,3,4,5], we can see that there is no combination of those two parameters that yields better overall results than linear kernel. However, this particular model is even better than previous two at predicting healthy people correctly. It could potentially be useful at dissmissing healthy patients so that the staff may focus on finding the sick within the rest. The optimal 'C' is 3.4 and number of degrees is 2. All in all, though, almost all the model's metrics decreased and it is rather a less useful model than linear SVM."
   ]
  },
  {
   "cell_type": "code",
   "execution_count": 385,
   "metadata": {},
   "outputs": [
    {
     "name": "stdout",
     "output_type": "stream",
     "text": [
      "Tuned C parameter: {'C': 0.3} \n",
      "\n",
      "[[46  6]\n",
      " [ 8 31]]\n",
      "              precision    recall  f1-score   support\n",
      "\n",
      "           0       0.85      0.88      0.87        52\n",
      "           1       0.84      0.79      0.82        39\n",
      "\n",
      "    accuracy                           0.85        91\n",
      "   macro avg       0.84      0.84      0.84        91\n",
      "weighted avg       0.85      0.85      0.85        91\n",
      "\n",
      "ROC AUC score: 0.8397435897435896\n",
      "Test accuracy: 0.8461538461538461\n",
      "Train accuracy: 0.8254716981132075\n"
     ]
    }
   ],
   "source": [
    "c = np.arange(0.05, 3, 0.05)\n",
    "param_grid = {'C': c}\n",
    "\n",
    "svc = SVC(cache_size = 500, kernel = 'rbf', max_iter = -1, \n",
    "          probability = True, gamma = 'auto')\n",
    "svc_cv = GridSearchCV(svc, param_grid, cv = 5, iid = True)\n",
    "svc_cv.fit(X_train, y_train)\n",
    "y_pred = svc_cv.predict(X_test)\n",
    "\n",
    "print(\"Tuned C parameter: {} \\n\".format(svc_cv.best_params_))\n",
    "print(confusion_matrix(y_test, y_pred))\n",
    "print(classification_report(y_test, y_pred))\n",
    "print(\"ROC AUC score: {}\" .format(roc_auc_score(y_test, y_pred)))\n",
    "print(\"Test accuracy: {}\" .format(svc_cv.score(X_test, y_test)))\n",
    "print(\"Train accuracy: {}\" .format(svc_cv.score(X_train, y_train)))"
   ]
  },
  {
   "cell_type": "code",
   "execution_count": 386,
   "metadata": {},
   "outputs": [],
   "source": [
    "results = results.append(pd.DataFrame({\"Model\": \"SVM rbf\", \n",
    "                             \"ROC AUC score\": roc_auc_score(y_test, y_pred),\n",
    "                             \"Accuracy\": svc_cv.score(X_test, y_test)},\n",
    "                             index=[0]),\n",
    "                         ignore_index=True)"
   ]
  },
  {
   "cell_type": "markdown",
   "metadata": {},
   "source": [
    "For a 'rbf' kernel we got rid of degrees parameter since according to sklearn documentation degree parameter is ignored by all kernels apart from 'poly'. Thus we performed a grid search cross-validation only with respect to 'C' parameter. The optimal value was set to 0.3, for which the SVM's ROC AUC score and accuracy were worse than that of linear SVM's but better than KNNs and poly SVMs. Current model got worse at predicting healthy people, since now it predicts 6 of them wrongly. However it got better at predicting sick people, since now it predicts 31 out of 39 correctly which I think can be seen as improvement. Treating a healthy patient has less severe consequences than not treating a sick one."
   ]
  },
  {
   "cell_type": "markdown",
   "metadata": {},
   "source": [
    "### Logistic Regression\n",
    "Last classification model that is going to be used in this project is logistic regression. As with previous models, the data is binarized and standardized. In our first step we would like to determine which regularization (Lasso or Ridge) would provide better results. To check this we assign both the parameter 'C' and two types of penalties to the parameter grid, 'l1' being Lasso regression and 'l2' being Ridge regression."
   ]
  },
  {
   "cell_type": "code",
   "execution_count": 387,
   "metadata": {},
   "outputs": [
    {
     "name": "stdout",
     "output_type": "stream",
     "text": [
      "Tuned C and penalty parameters: {'C': 1.2648552168552958, 'penalty': 'l1'} \n",
      "\n",
      "[[48  4]\n",
      " [ 6 33]]\n",
      "              precision    recall  f1-score   support\n",
      "\n",
      "           0       0.89      0.92      0.91        52\n",
      "           1       0.89      0.85      0.87        39\n",
      "\n",
      "    accuracy                           0.89        91\n",
      "   macro avg       0.89      0.88      0.89        91\n",
      "weighted avg       0.89      0.89      0.89        91\n",
      "\n",
      "ROC AUC score: 0.8846153846153848\n",
      "Test accuracy: 0.8901098901098901\n",
      "Train accuracy: 0.8726415094339622\n"
     ]
    }
   ],
   "source": [
    "from sklearn.linear_model import LogisticRegression\n",
    "\n",
    "c_log = np.logspace(-5, 5, 50)\n",
    "param_grid = {'C': c_log, 'penalty': ['l1','l2']}\n",
    "\n",
    "lr = LogisticRegression(solver = 'saga', max_iter = 100000)\n",
    "lr_cv = GridSearchCV(lr, param_grid, cv = 5, iid = True)\n",
    "lr_cv.fit(X_train, y_train)\n",
    "y_pred = lr_cv.predict(X_test)\n",
    "\n",
    "print(\"Tuned C and penalty parameters: {} \\n\".format(lr_cv.best_params_))\n",
    "print(confusion_matrix(y_test, y_pred))\n",
    "print(classification_report(y_test, y_pred))\n",
    "print(\"ROC AUC score: {}\" .format(roc_auc_score(y_test, y_pred)))\n",
    "print(\"Test accuracy: {}\" .format(lr_cv.score(X_test, y_test)))\n",
    "print(\"Train accuracy: {}\" .format(lr_cv.score(X_train, y_train)))"
   ]
  },
  {
   "cell_type": "code",
   "execution_count": 388,
   "metadata": {},
   "outputs": [],
   "source": [
    "results = results.append(pd.DataFrame({\"Model\": \"Logreg Lasso\", \n",
    "                             \"ROC AUC score\": roc_auc_score(y_test, y_pred),\n",
    "                             \"Accuracy\": lr_cv.score(X_test, y_test)},\n",
    "                             index=[0]),\n",
    "                         ignore_index=True)"
   ]
  },
  {
   "cell_type": "markdown",
   "metadata": {},
   "source": [
    "We can observe that the best results are obtained for 'C' equal to 1.26 and when l1 (Lasso) regularization is applied. Since Lasso is a form of variable selection and Ridge is not, it may suggest that we may have some variables whose removal would improve the model. The results are slightly worse at predicting healthy patients than poly SVM (two fewer TP predictions), but also slightly better at predicting sick patients (two TN predicted than for rbf SVM). The model follows previous tendency of smaller recall for 1's. Arguably it is the best model up to this moment, with both highest accuracy, ROC AUC score and detection rate for sick patients."
   ]
  },
  {
   "cell_type": "markdown",
   "metadata": {},
   "source": [
    "Logistic regression provides the possibilty of mixing L1 and L2 standarizations in a form of ElasticNet, which is a weighted combination of previous two - 'l1_ratio' being the weight of L1 regularization and 1-'l1_ratio' the weight of L2 regularization. We will try and see if it provides anything more to the results. The range of 'l1-ratio' was also previously tested and narrowed down to reduce the computation time."
   ]
  },
  {
   "cell_type": "code",
   "execution_count": 389,
   "metadata": {},
   "outputs": [
    {
     "name": "stdout",
     "output_type": "stream",
     "text": [
      "Tuned C and l1_ratio parameters: {'C': 2.0235896477251556, 'l1_ratio': 0.0} \n",
      "\n",
      "[[49  3]\n",
      " [ 7 32]]\n",
      "              precision    recall  f1-score   support\n",
      "\n",
      "           0       0.88      0.94      0.91        52\n",
      "           1       0.91      0.82      0.86        39\n",
      "\n",
      "    accuracy                           0.89        91\n",
      "   macro avg       0.89      0.88      0.89        91\n",
      "weighted avg       0.89      0.89      0.89        91\n",
      "\n",
      "ROC AUC score: 0.8814102564102564\n",
      "Test accuracy: 0.8901098901098901\n",
      "Train accuracy: 0.8726415094339622\n"
     ]
    }
   ],
   "source": [
    "c_log = np.logspace(-5, 5, 50)\n",
    "l1_ratio = np.arange(0, 0.2, 0.05)\n",
    "param_grid = {'C': c_log, 'l1_ratio': l1_ratio}\n",
    "\n",
    "lr = LogisticRegression(solver = 'saga', penalty = 'elasticnet', max_iter = 10000000)\n",
    "lr_cv = GridSearchCV(lr, param_grid, cv = 5, iid = True)\n",
    "lr_cv.fit(X_train, y_train)\n",
    "y_pred = lr_cv.predict(X_test)\n",
    "\n",
    "print(\"Tuned C and l1_ratio parameters: {} \\n\".format(lr_cv.best_params_))\n",
    "print(confusion_matrix(y_test, y_pred))\n",
    "print(classification_report(y_test, y_pred))\n",
    "print(\"ROC AUC score: {}\" .format(roc_auc_score(y_test, y_pred)))\n",
    "print(\"Test accuracy: {}\" .format(lr_cv.score(X_test, y_test)))\n",
    "print(\"Train accuracy: {}\" .format(lr_cv.score(X_train, y_train)))"
   ]
  },
  {
   "cell_type": "code",
   "execution_count": 390,
   "metadata": {},
   "outputs": [],
   "source": [
    "results = results.append(pd.DataFrame({\"Model\": \"Logreg ElasticNet\", \n",
    "                             \"ROC AUC score\": roc_auc_score(y_test, y_pred),\n",
    "                             \"Accuracy\": lr_cv.score(X_test, y_test)},\n",
    "                             index=[0]),\n",
    "                         ignore_index=True)"
   ]
  },
  {
   "cell_type": "markdown",
   "metadata": {},
   "source": [
    "After trying many different parameter ranges for l1_ratio the one above gave the best results in terms of ROC AUC score and accuracy. The output suggests that the L1 regularization should not be used at all to get the best results. The ElasticNet turned, in fact, into a Ridge regression (with 'C' parameter equal to 2.02) which also predicted 10 patients in total wrongly, same as previous Lasso regression. However it is worse at predicting true negatives. So we can say that it is very close in terms of overall usefulness, but falls just a bit short due to aforementioned importance of true negative detection."
   ]
  },
  {
   "cell_type": "markdown",
   "metadata": {},
   "source": [
    "So far we have obtained predictions using a few different methods and below we have a summary of how each model fares."
   ]
  },
  {
   "cell_type": "code",
   "execution_count": 391,
   "metadata": {},
   "outputs": [
    {
     "name": "stdout",
     "output_type": "stream",
     "text": [
      "             Model  ROC AUC score  Accuracy\n",
      "             KNN-6       0.817308  0.835165\n",
      "        SVM linear       0.855769  0.868132\n",
      "          SVM poly       0.826923  0.846154\n",
      "           SVM rbf       0.839744  0.846154\n",
      "      Logreg Lasso       0.884615  0.890110\n",
      " Logreg ElasticNet       0.881410  0.890110\n"
     ]
    }
   ],
   "source": [
    "print(results.to_string(index=False))"
   ]
  },
  {
   "cell_type": "markdown",
   "metadata": {},
   "source": [
    "We can see that in terms of both ROC AUC score and accuracy are generally very much alike, with KNN and poly SVM models falling a bit short. All in all though, here is current list of models with highest score and accuracy:\n",
    "1. Logreg Lasso\n",
    "2. Logreg ElasticNet\n",
    "3. SVM linear\n",
    "4. SVM rbf\n",
    "6. SVM poly\n",
    "7. KNN-6"
   ]
  },
  {
   "cell_type": "markdown",
   "metadata": {},
   "source": [
    "### Feature selection\n",
    "All the previous models were calculated with all variables taken into consideration. Now we will take a look at feature selection to try and determine whether we can obtain better results if we omit certain variables. First off, let's take a look at the mutual information statistic."
   ]
  },
  {
   "cell_type": "code",
   "execution_count": 392,
   "metadata": {},
   "outputs": [
    {
     "name": "stdout",
     "output_type": "stream",
     "text": [
      "Nominal variables:\n"
     ]
    },
    {
     "data": {
      "text/plain": [
       "[['cp', array([0.12506337])],\n",
       " ['restecg', array([0.01978269])],\n",
       " ['slope', array([0.07265731])],\n",
       " ['ca', array([0.13758927])],\n",
       " ['thal', array([0.10760075])],\n",
       " ['sex', array([0.01412752])],\n",
       " ['exang', array([0.09035399])],\n",
       " ['fbs', array([0])]]"
      ]
     },
     "metadata": {},
     "output_type": "display_data"
    },
    {
     "name": "stdout",
     "output_type": "stream",
     "text": [
      "Numerical variables:\n"
     ]
    },
    {
     "data": {
      "text/plain": [
       "[['age', array([0.01754789])],\n",
       " ['trestbps', array([0])],\n",
       " ['chol', array([0.07485494])],\n",
       " ['thalach', array([0.08261985])],\n",
       " ['oldpeak', array([0.11335987])]]"
      ]
     },
     "metadata": {},
     "output_type": "display_data"
    }
   ],
   "source": [
    "nominal = [\"cp\", \"restecg\", \"slope\", \"ca\", \"thal\", \"sex\", \"exang\", \"fbs\"]\n",
    "numerical = [\"age\", \"trestbps\", \"chol\", \"thalach\", \"oldpeak\"]\n",
    "\n",
    "from sklearn import feature_selection\n",
    "\n",
    "mutual_info_nominal = []\n",
    "for var in nominal:\n",
    "    mi = feature_selection.mutual_info_classif(data[var].values.reshape(-1,1), data[\"hds\"].values, random_state = 2020)\n",
    "    mutual_info_nominal.append([var, mi])\n",
    "\n",
    "mutual_info_numerical = []\n",
    "for var in numerical:\n",
    "    mi = feature_selection.mutual_info_classif(data[var].values.reshape(-1,1), data[\"hds\"].values, random_state = 2020)\n",
    "    mutual_info_numerical.append([var, mi])\n",
    "\n",
    "print(\"Nominal variables:\")\n",
    "display(mutual_info_nominal)\n",
    "print(\"Numerical variables:\")\n",
    "display(mutual_info_numerical)"
   ]
  },
  {
   "cell_type": "markdown",
   "metadata": {},
   "source": [
    "From what we can see, variables 'fbs' and 'trestbps' are the ones with lowest values. Next in order are 'restecg', 'age' and 'sex' with values below 0.02. We can now try and calculate logistic regressions without these 'insignificant' variables to see whether it improves the model. We must alter our dataset accordingly first. We remove 'fbs' and 'trestbps' from our data."
   ]
  },
  {
   "cell_type": "code",
   "execution_count": 393,
   "metadata": {},
   "outputs": [
    {
     "data": {
      "text/html": [
       "<div>\n",
       "<style scoped>\n",
       "    .dataframe tbody tr th:only-of-type {\n",
       "        vertical-align: middle;\n",
       "    }\n",
       "\n",
       "    .dataframe tbody tr th {\n",
       "        vertical-align: top;\n",
       "    }\n",
       "\n",
       "    .dataframe thead th {\n",
       "        text-align: right;\n",
       "    }\n",
       "</style>\n",
       "<table border=\"1\" class=\"dataframe\">\n",
       "  <thead>\n",
       "    <tr style=\"text-align: right;\">\n",
       "      <th></th>\n",
       "      <th>chol</th>\n",
       "      <th>thalach</th>\n",
       "      <th>oldpeak</th>\n",
       "      <th>age</th>\n",
       "      <th>cp_2.0</th>\n",
       "      <th>cp_3.0</th>\n",
       "      <th>cp_4.0</th>\n",
       "      <th>slope_2.0</th>\n",
       "      <th>slope_3.0</th>\n",
       "      <th>ca_1.0</th>\n",
       "      <th>ca_2.0</th>\n",
       "      <th>ca_3.0</th>\n",
       "      <th>thal_6.0</th>\n",
       "      <th>thal_7.0</th>\n",
       "      <th>restecg_1.0</th>\n",
       "      <th>restecg_2.0</th>\n",
       "      <th>exang</th>\n",
       "      <th>hds</th>\n",
       "      <th>sex</th>\n",
       "    </tr>\n",
       "  </thead>\n",
       "  <tbody>\n",
       "    <tr>\n",
       "      <th>0</th>\n",
       "      <td>-0.264463</td>\n",
       "      <td>0.017169</td>\n",
       "      <td>1.085542</td>\n",
       "      <td>0.947160</td>\n",
       "      <td>0</td>\n",
       "      <td>0</td>\n",
       "      <td>0</td>\n",
       "      <td>0</td>\n",
       "      <td>1</td>\n",
       "      <td>0</td>\n",
       "      <td>0</td>\n",
       "      <td>0</td>\n",
       "      <td>1</td>\n",
       "      <td>0</td>\n",
       "      <td>0</td>\n",
       "      <td>1</td>\n",
       "      <td>0.0</td>\n",
       "      <td>0</td>\n",
       "      <td>1.0</td>\n",
       "    </tr>\n",
       "    <tr>\n",
       "      <th>1</th>\n",
       "      <td>0.759159</td>\n",
       "      <td>-1.818896</td>\n",
       "      <td>0.396526</td>\n",
       "      <td>1.389703</td>\n",
       "      <td>0</td>\n",
       "      <td>0</td>\n",
       "      <td>1</td>\n",
       "      <td>1</td>\n",
       "      <td>0</td>\n",
       "      <td>0</td>\n",
       "      <td>0</td>\n",
       "      <td>1</td>\n",
       "      <td>0</td>\n",
       "      <td>0</td>\n",
       "      <td>0</td>\n",
       "      <td>1</td>\n",
       "      <td>1.0</td>\n",
       "      <td>1</td>\n",
       "      <td>1.0</td>\n",
       "    </tr>\n",
       "    <tr>\n",
       "      <th>2</th>\n",
       "      <td>-0.341717</td>\n",
       "      <td>-0.900864</td>\n",
       "      <td>1.343924</td>\n",
       "      <td>1.389703</td>\n",
       "      <td>0</td>\n",
       "      <td>0</td>\n",
       "      <td>1</td>\n",
       "      <td>1</td>\n",
       "      <td>0</td>\n",
       "      <td>0</td>\n",
       "      <td>1</td>\n",
       "      <td>0</td>\n",
       "      <td>0</td>\n",
       "      <td>1</td>\n",
       "      <td>0</td>\n",
       "      <td>1</td>\n",
       "      <td>1.0</td>\n",
       "      <td>1</td>\n",
       "      <td>1.0</td>\n",
       "    </tr>\n",
       "    <tr>\n",
       "      <th>3</th>\n",
       "      <td>0.063869</td>\n",
       "      <td>1.634655</td>\n",
       "      <td>2.119067</td>\n",
       "      <td>-1.929372</td>\n",
       "      <td>0</td>\n",
       "      <td>1</td>\n",
       "      <td>0</td>\n",
       "      <td>0</td>\n",
       "      <td>1</td>\n",
       "      <td>0</td>\n",
       "      <td>0</td>\n",
       "      <td>0</td>\n",
       "      <td>0</td>\n",
       "      <td>0</td>\n",
       "      <td>0</td>\n",
       "      <td>0</td>\n",
       "      <td>0.0</td>\n",
       "      <td>0</td>\n",
       "      <td>1.0</td>\n",
       "    </tr>\n",
       "    <tr>\n",
       "      <th>4</th>\n",
       "      <td>-0.824558</td>\n",
       "      <td>0.978917</td>\n",
       "      <td>0.310399</td>\n",
       "      <td>-1.486829</td>\n",
       "      <td>1</td>\n",
       "      <td>0</td>\n",
       "      <td>0</td>\n",
       "      <td>0</td>\n",
       "      <td>0</td>\n",
       "      <td>0</td>\n",
       "      <td>0</td>\n",
       "      <td>0</td>\n",
       "      <td>0</td>\n",
       "      <td>0</td>\n",
       "      <td>0</td>\n",
       "      <td>1</td>\n",
       "      <td>0.0</td>\n",
       "      <td>0</td>\n",
       "      <td>0.0</td>\n",
       "    </tr>\n",
       "  </tbody>\n",
       "</table>\n",
       "</div>"
      ],
      "text/plain": [
       "       chol   thalach   oldpeak       age  cp_2.0  cp_3.0  cp_4.0  slope_2.0  \\\n",
       "0 -0.264463  0.017169  1.085542  0.947160       0       0       0          0   \n",
       "1  0.759159 -1.818896  0.396526  1.389703       0       0       1          1   \n",
       "2 -0.341717 -0.900864  1.343924  1.389703       0       0       1          1   \n",
       "3  0.063869  1.634655  2.119067 -1.929372       0       1       0          0   \n",
       "4 -0.824558  0.978917  0.310399 -1.486829       1       0       0          0   \n",
       "\n",
       "   slope_3.0  ca_1.0  ca_2.0  ca_3.0  thal_6.0  thal_7.0  restecg_1.0  \\\n",
       "0          1       0       0       0         1         0            0   \n",
       "1          0       0       0       1         0         0            0   \n",
       "2          0       0       1       0         0         1            0   \n",
       "3          1       0       0       0         0         0            0   \n",
       "4          0       0       0       0         0         0            0   \n",
       "\n",
       "   restecg_2.0  exang  hds  sex  \n",
       "0            1    0.0    0  1.0  \n",
       "1            1    1.0    1  1.0  \n",
       "2            1    1.0    1  1.0  \n",
       "3            0    0.0    0  1.0  \n",
       "4            1    0.0    0  0.0  "
      ]
     },
     "metadata": {},
     "output_type": "display_data"
    }
   ],
   "source": [
    "nominal_fs = data[[\"cp\", \"slope\", \"ca\", \"thal\", \"restecg\"]].astype(object)\n",
    "numerical_fs = data[[\"chol\", \"thalach\", \"oldpeak\", \"age\"]]\n",
    "\n",
    "dummy_fs = pd.get_dummies(nominal_fs, drop_first=True)\n",
    "numerical_std_fs = numerical_fs.apply(lambda x: (x-x.mean())/x.std())\n",
    "\n",
    "data_bin_norm_fs = pd.concat([numerical_std_fs, dummy_fs, data[[\"exang\", \"hds\", \"sex\"]]], axis=1)\n",
    "\n",
    "display(data_bin_norm_fs.head())"
   ]
  },
  {
   "cell_type": "markdown",
   "metadata": {},
   "source": [
    "### FS K-Nearest Neighbors\n",
    "Now we can perform the same algorithms as before for our feature selected dataset and see whether there are any improvements to the predictions. All the models from before will be used on the feature selected data, as they would most likely achieve different scores and it could be useful knowing which improved and which regressed in terms of performance and prediction power."
   ]
  },
  {
   "cell_type": "code",
   "execution_count": 394,
   "metadata": {},
   "outputs": [
    {
     "name": "stdout",
     "output_type": "stream",
     "text": [
      "Tuned KNN number of neighbors: {'n_neighbors': 3} \n",
      "\n",
      "[[47  5]\n",
      " [ 8 31]]\n",
      "              precision    recall  f1-score   support\n",
      "\n",
      "           0       0.85      0.90      0.88        52\n",
      "           1       0.86      0.79      0.83        39\n",
      "\n",
      "    accuracy                           0.86        91\n",
      "   macro avg       0.86      0.85      0.85        91\n",
      "weighted avg       0.86      0.86      0.86        91\n",
      "\n",
      "ROC AUC score: 0.8493589743589743\n",
      "Test accuracy: 0.8571428571428571\n",
      "Train accuracy: 0.8537735849056604\n"
     ]
    }
   ],
   "source": [
    "y_norm_fs = data_bin_norm_fs['hds'].values\n",
    "X_norm_fs = data_bin_norm_fs.drop('hds', axis = 1).values\n",
    "\n",
    "X_train, X_test, y_train, y_test = train_test_split(X_norm_fs, y_norm_fs, test_size = 0.3, random_state = 2020)\n",
    "\n",
    "neighbors = np.arange(1, 18)\n",
    "param_grid = {'n_neighbors': neighbors}\n",
    "\n",
    "knn = KNeighborsClassifier()\n",
    "knn_cv = GridSearchCV(knn, param_grid, cv = 5, iid = True)\n",
    "knn_cv.fit(X_train, y_train)\n",
    "y_pred = knn_cv.predict(X_test)\n",
    "\n",
    "print(\"Tuned KNN number of neighbors: {} \\n\".format(knn_cv.best_params_))\n",
    "print(confusion_matrix(y_test, y_pred))\n",
    "print(classification_report(y_test, y_pred))\n",
    "print(\"ROC AUC score: {}\" .format(roc_auc_score(y_test, y_pred)))\n",
    "print(\"Test accuracy: {}\" .format(knn_cv.score(X_test, y_test)))\n",
    "print(\"Train accuracy: {}\" .format(knn_cv.score(X_train, y_train)))"
   ]
  },
  {
   "cell_type": "code",
   "execution_count": 395,
   "metadata": {},
   "outputs": [],
   "source": [
    "results = results.append(pd.DataFrame({\"Model\": \"FS KNN-3\", \n",
    "                             \"ROC AUC score\": roc_auc_score(y_test, y_pred),\n",
    "                             \"Accuracy\": knn_cv.score(X_test, y_test)},\n",
    "                             index=[0]),\n",
    "                         ignore_index=True)"
   ]
  },
  {
   "cell_type": "markdown",
   "metadata": {},
   "source": [
    "Clearly there is an overall improvement to the previous KNN model, with 4 more good predictions of sick patients and only two worse for healthy patients. Feature selection successfully detected insignificant variables and their omission turned out to improve the model. In terms of metrics it is now better than both poly and rbf SVMs and just slightly worse than linear SVM. "
   ]
  },
  {
   "cell_type": "markdown",
   "metadata": {},
   "source": [
    "### FS SVM\n",
    "From the SVM 'tree' linear kernel seemed to perform the best, thus we perform it and hope to outperform its predecessor."
   ]
  },
  {
   "cell_type": "code",
   "execution_count": 396,
   "metadata": {},
   "outputs": [
    {
     "name": "stdout",
     "output_type": "stream",
     "text": [
      "Tuned C parameter: {'C': 4.4499999999999975} \n",
      "\n",
      "[[47  5]\n",
      " [ 9 30]]\n",
      "              precision    recall  f1-score   support\n",
      "\n",
      "           0       0.84      0.90      0.87        52\n",
      "           1       0.86      0.77      0.81        39\n",
      "\n",
      "    accuracy                           0.85        91\n",
      "   macro avg       0.85      0.84      0.84        91\n",
      "weighted avg       0.85      0.85      0.84        91\n",
      "\n",
      "ROC AUC score: 0.8365384615384616\n",
      "Test accuracy: 0.8461538461538461\n",
      "Train accuracy: 0.8584905660377359\n"
     ]
    }
   ],
   "source": [
    "c = np.arange(1, 7, 0.15)\n",
    "param_grid = {'C': c}\n",
    "\n",
    "svc = SVC(cache_size = 500, kernel = 'linear',\n",
    "          max_iter = -1, probability = True)\n",
    "svc_cv = GridSearchCV(svc, param_grid, cv = 5, iid = True)\n",
    "svc_cv.fit(X_train, y_train)\n",
    "y_pred = svc_cv.predict(X_test)\n",
    "\n",
    "print(\"Tuned C parameter: {} \\n\".format(svc_cv.best_params_))\n",
    "print(confusion_matrix(y_test, y_pred))\n",
    "print(classification_report(y_test, y_pred))\n",
    "print(\"ROC AUC score: {}\" .format(roc_auc_score(y_test, y_pred)))\n",
    "print(\"Test accuracy: {}\" .format(svc_cv.score(X_test, y_test)))\n",
    "print(\"Train accuracy: {}\" .format(svc_cv.score(X_train, y_train)))"
   ]
  },
  {
   "cell_type": "code",
   "execution_count": 397,
   "metadata": {},
   "outputs": [],
   "source": [
    "results = results.append(pd.DataFrame({\"Model\": \"FS SVM linear\", \n",
    "                             \"ROC AUC score\": roc_auc_score(y_test, y_pred),\n",
    "                             \"Accuracy\": svc_cv.score(X_test, y_test)},\n",
    "                             index=[0]),\n",
    "                         ignore_index=True)"
   ]
  },
  {
   "cell_type": "markdown",
   "metadata": {},
   "source": [
    "In the case of linear SVM, the feature selection method yielded worse results than before. Then number of false negatives increase as well as the number of false positives. In that case, I would like to see whether the tendency is spread across other types of SVM kernels. Thus we will perform also the poly and rbf versions of SVM. The poly version is next on the list."
   ]
  },
  {
   "cell_type": "code",
   "execution_count": 398,
   "metadata": {},
   "outputs": [
    {
     "name": "stdout",
     "output_type": "stream",
     "text": [
      "Tuned C parameter: {'C': 2.499999999999999, 'degree': 2} \n",
      "\n",
      "[[50  2]\n",
      " [12 27]]\n",
      "              precision    recall  f1-score   support\n",
      "\n",
      "           0       0.81      0.96      0.88        52\n",
      "           1       0.93      0.69      0.79        39\n",
      "\n",
      "    accuracy                           0.85        91\n",
      "   macro avg       0.87      0.83      0.84        91\n",
      "weighted avg       0.86      0.85      0.84        91\n",
      "\n",
      "ROC AUC score: 0.826923076923077\n",
      "Test accuracy: 0.8461538461538461\n",
      "Train accuracy: 0.8537735849056604\n"
     ]
    }
   ],
   "source": [
    "c = np.arange(1, 7, 0.15)\n",
    "degree = np.arange(2, 6, 1)\n",
    "param_grid = {'C': c, 'degree': degree}\n",
    "\n",
    "svc = SVC(cache_size = 500, kernel = 'poly',\n",
    "          max_iter = -1, probability = True, gamma = 'auto')\n",
    "svc_cv = GridSearchCV(svc, param_grid, cv = 5, iid = True)\n",
    "svc_cv.fit(X_train, y_train)\n",
    "y_pred = svc_cv.predict(X_test)\n",
    "\n",
    "print(\"Tuned C parameter: {} \\n\".format(svc_cv.best_params_))\n",
    "print(confusion_matrix(y_test, y_pred))\n",
    "print(classification_report(y_test, y_pred))\n",
    "print(\"ROC AUC score: {}\" .format(roc_auc_score(y_test, y_pred)))\n",
    "print(\"Test accuracy: {}\" .format(svc_cv.score(X_test, y_test)))\n",
    "print(\"Train accuracy: {}\" .format(svc_cv.score(X_train, y_train)))"
   ]
  },
  {
   "cell_type": "code",
   "execution_count": 399,
   "metadata": {},
   "outputs": [],
   "source": [
    "results = results.append(pd.DataFrame({\"Model\": \"FS SVM poly\", \n",
    "                             \"ROC AUC score\": roc_auc_score(y_test, y_pred),\n",
    "                             \"Accuracy\": svc_cv.score(X_test, y_test)},\n",
    "                             index=[0]),\n",
    "                         ignore_index=True)"
   ]
  },
  {
   "cell_type": "markdown",
   "metadata": {},
   "source": [
    "In the case of poly kernel the results didn't change at all, which is quite interesting. Last SVM method is the one using rbf kernel."
   ]
  },
  {
   "cell_type": "code",
   "execution_count": 400,
   "metadata": {},
   "outputs": [
    {
     "name": "stdout",
     "output_type": "stream",
     "text": [
      "Tuned C parameter: {'C': 3.0500000000000016} \n",
      "\n",
      "[[49  3]\n",
      " [ 7 32]]\n",
      "              precision    recall  f1-score   support\n",
      "\n",
      "           0       0.88      0.94      0.91        52\n",
      "           1       0.91      0.82      0.86        39\n",
      "\n",
      "    accuracy                           0.89        91\n",
      "   macro avg       0.89      0.88      0.89        91\n",
      "weighted avg       0.89      0.89      0.89        91\n",
      "\n",
      "ROC AUC score: 0.8814102564102564\n",
      "Test accuracy: 0.8901098901098901\n",
      "Train accuracy: 0.8820754716981132\n"
     ]
    }
   ],
   "source": [
    "c = np.arange(1, 4, 0.05)\n",
    "param_grid = {'C': c}\n",
    "\n",
    "svc = SVC(cache_size = 500, kernel = 'rbf',\n",
    "          max_iter = -1, probability = True, gamma = 'auto')\n",
    "svc_cv = GridSearchCV(svc, param_grid, cv = 5, iid = True)\n",
    "svc_cv.fit(X_train, y_train)\n",
    "y_pred = svc_cv.predict(X_test)\n",
    "\n",
    "print(\"Tuned C parameter: {} \\n\".format(svc_cv.best_params_))\n",
    "print(confusion_matrix(y_test, y_pred))\n",
    "print(classification_report(y_test, y_pred))\n",
    "print(\"ROC AUC score: {}\" .format(roc_auc_score(y_test, y_pred)))\n",
    "print(\"Test accuracy: {}\" .format(svc_cv.score(X_test, y_test)))\n",
    "print(\"Train accuracy: {}\" .format(svc_cv.score(X_train, y_train)))"
   ]
  },
  {
   "cell_type": "code",
   "execution_count": 401,
   "metadata": {},
   "outputs": [],
   "source": [
    "results = results.append(pd.DataFrame({\"Model\": \"FS SVM rbf\", \n",
    "                             \"ROC AUC score\": roc_auc_score(y_test, y_pred),\n",
    "                             \"Accuracy\": svc_cv.score(X_test, y_test)},\n",
    "                             index=[0]),\n",
    "                         ignore_index=True)"
   ]
  },
  {
   "cell_type": "markdown",
   "metadata": {},
   "source": [
    "Here the results improved again, so we had all possible outcomes with the SVMs. Linear got worse, poly stayed the same and rbf got better. It achieved the ElasticNet's level of proficiency, scoring the exact same predictions as mentioned regression."
   ]
  },
  {
   "cell_type": "markdown",
   "metadata": {},
   "source": [
    "### FS Logistic Regression\n",
    "Last on the list is logistic regression. We will do the Lasso or Ridge parameter grid search again and then try with ElasticNet and see what are the outcomes."
   ]
  },
  {
   "cell_type": "code",
   "execution_count": 402,
   "metadata": {},
   "outputs": [
    {
     "name": "stdout",
     "output_type": "stream",
     "text": [
      "Tuned C and penalty parameters: {'C': 33.9322177189533, 'penalty': 'l1'} \n",
      "\n",
      "[[47  5]\n",
      " [ 7 32]]\n",
      "              precision    recall  f1-score   support\n",
      "\n",
      "           0       0.87      0.90      0.89        52\n",
      "           1       0.86      0.82      0.84        39\n",
      "\n",
      "    accuracy                           0.87        91\n",
      "   macro avg       0.87      0.86      0.86        91\n",
      "weighted avg       0.87      0.87      0.87        91\n",
      "\n",
      "ROC AUC score: 0.8621794871794871\n",
      "Test accuracy: 0.8681318681318682\n",
      "Train accuracy: 0.8632075471698113\n"
     ]
    }
   ],
   "source": [
    "c_log = np.logspace(-5, 5, 50)\n",
    "param_grid = {'C': c_log, 'penalty': ['l1','l2']}\n",
    "\n",
    "lr = LogisticRegression(solver = 'saga', max_iter = 100000)\n",
    "lr_cv = GridSearchCV(lr, param_grid, cv = 5, iid = True)\n",
    "lr_cv.fit(X_train, y_train)\n",
    "y_pred = lr_cv.predict(X_test)\n",
    "\n",
    "print(\"Tuned C and penalty parameters: {} \\n\".format(lr_cv.best_params_))\n",
    "print(confusion_matrix(y_test, y_pred))\n",
    "print(classification_report(y_test, y_pred))\n",
    "print(\"ROC AUC score: {}\" .format(roc_auc_score(y_test, y_pred)))\n",
    "print(\"Test accuracy: {}\" .format(lr_cv.score(X_test, y_test)))\n",
    "print(\"Train accuracy: {}\" .format(lr_cv.score(X_train, y_train)))"
   ]
  },
  {
   "cell_type": "code",
   "execution_count": 403,
   "metadata": {},
   "outputs": [],
   "source": [
    "results = results.append(pd.DataFrame({\"Model\": \"FS Logreg Lasso\", \n",
    "                             \"ROC AUC score\": roc_auc_score(y_test, y_pred),\n",
    "                             \"Accuracy\": lr_cv.score(X_test, y_test)},\n",
    "                             index=[0]),\n",
    "                         ignore_index=True)"
   ]
  },
  {
   "cell_type": "markdown",
   "metadata": {},
   "source": [
    "Here again the results are slightly worse than for its previous counterpart, achieving one less correct prediction for both TPs and TNs."
   ]
  },
  {
   "cell_type": "code",
   "execution_count": 405,
   "metadata": {},
   "outputs": [
    {
     "name": "stdout",
     "output_type": "stream",
     "text": [
      "Tuned C and l1_ratio parameters: {'C': 33.9322177189533, 'l1_ratio': 0.0} \n",
      "\n",
      "[[47  5]\n",
      " [ 7 32]]\n",
      "              precision    recall  f1-score   support\n",
      "\n",
      "           0       0.87      0.90      0.89        52\n",
      "           1       0.86      0.82      0.84        39\n",
      "\n",
      "    accuracy                           0.87        91\n",
      "   macro avg       0.87      0.86      0.86        91\n",
      "weighted avg       0.87      0.87      0.87        91\n",
      "\n",
      "ROC AUC score: 0.8621794871794871\n",
      "Test accuracy: 0.8681318681318682\n",
      "Train accuracy: 0.8632075471698113\n"
     ]
    }
   ],
   "source": [
    "c_log = np.logspace(-5, 5, 50)\n",
    "l1_ratio = np.arange(0, 1.01, 0.1)\n",
    "param_grid = {'C': c_log, 'l1_ratio': l1_ratio}\n",
    "\n",
    "lr = LogisticRegression(solver = 'saga', penalty = 'elasticnet', max_iter = 10000000)\n",
    "lr_cv = GridSearchCV(lr, param_grid, cv = 5, iid = True)\n",
    "lr_cv.fit(X_train, y_train)\n",
    "y_pred = lr_cv.predict(X_test)\n",
    "\n",
    "print(\"Tuned C and l1_ratio parameters: {} \\n\".format(lr_cv.best_params_))\n",
    "print(confusion_matrix(y_test, y_pred))\n",
    "print(classification_report(y_test, y_pred))\n",
    "print(\"ROC AUC score: {}\" .format(roc_auc_score(y_test, y_pred)))\n",
    "print(\"Test accuracy: {}\" .format(lr_cv.score(X_test, y_test)))\n",
    "print(\"Train accuracy: {}\" .format(lr_cv.score(X_train, y_train)))"
   ]
  },
  {
   "cell_type": "code",
   "execution_count": 406,
   "metadata": {},
   "outputs": [],
   "source": [
    "results = results.append(pd.DataFrame({\"Model\": \"FS Logreg ElasticNet\", \n",
    "                             \"ROC AUC score\": roc_auc_score(y_test, y_pred),\n",
    "                             \"Accuracy\": lr_cv.score(X_test, y_test)},\n",
    "                             index=[0]),\n",
    "                         ignore_index=True)"
   ]
  },
  {
   "cell_type": "markdown",
   "metadata": {},
   "source": [
    "ElasticNet also yielded slightly worse results, again choosing to not take Lasso into account and sticking with Ridge. The 'C' parameter however is bigger than previously, but the prediction power is smaller. \n",
    "***"
   ]
  },
  {
   "cell_type": "markdown",
   "metadata": {},
   "source": [
    "# Summary\n",
    "Let's take a look at the results we obtained from each model and analyze some of their features."
   ]
  },
  {
   "cell_type": "code",
   "execution_count": 407,
   "metadata": {},
   "outputs": [
    {
     "name": "stdout",
     "output_type": "stream",
     "text": [
      "                Model  ROC AUC score  Accuracy\n",
      "         Logreg Lasso       0.884615  0.890110\n",
      "    Logreg ElasticNet       0.881410  0.890110\n",
      "           FS SVM rbf       0.881410  0.890110\n",
      "      FS Logreg Lasso       0.862179  0.868132\n",
      " FS Logreg ElasticNet       0.862179  0.868132\n",
      "           SVM linear       0.855769  0.868132\n",
      "             FS KNN-3       0.849359  0.857143\n",
      "              SVM rbf       0.839744  0.846154\n",
      "        FS SVM linear       0.836538  0.846154\n",
      "             SVM poly       0.826923  0.846154\n",
      "          FS SVM poly       0.826923  0.846154\n",
      "                KNN-6       0.817308  0.835165\n"
     ]
    }
   ],
   "source": [
    "results_sort = results.sort_values(by=['ROC AUC score'], ascending = False)\n",
    "print(results_sort.to_string(index=False))"
   ]
  },
  {
   "cell_type": "markdown",
   "metadata": {},
   "source": [
    "From this results table we can see that the Logistic Regression with Lasso penalty performed the best in terms of both  ROC AUC score and test set accuracy (on par with ElasticNet). If we get back to the classification report of the aforementioned Logistic regression model we will see that it achieved high recall of 0.92 for healthy people and lower for ill people (0.85). This means our model is better at detecting people without disease. "
   ]
  },
  {
   "cell_type": "markdown",
   "metadata": {},
   "source": [
    "As far as SVM models are concerned, both linear and rbf SVMs were noticeably worse at detecting TNs and slightly better at detecting TPs. So all in all they were less useful than Logreg model. SVM poly however achieved even higher recall value for 0's than aforementioned model and detected 96% of people without disease correctly. The drawback to this was much worse detection of disease presence. But this model could be used specifically just to detect healthy, due to it's high precision in that department."
   ]
  },
  {
   "cell_type": "markdown",
   "metadata": {},
   "source": [
    "Initial KNN model with 6 neighbours performed the worst of all tested models, both in terms of accuracy and ROC AUC score. Its power of correctly detection healthy people was on par with the best models but it stood out in terms of detecting sick patients. 12 out of 39 sick were wrongly classified as healthy which is an abysmal number."
   ]
  },
  {
   "cell_type": "markdown",
   "metadata": {},
   "source": [
    "Feature selection found out that some of the variables were not contributing much to the explanation of our target variable, thus in the next step I decided to leave them out and see if it impoves any of the models. In case of KNN it improved the model significantly. It was now (with 3 neighbours) able to 'compete' with previous models. All in all, though, the predictions were quite mediocre and earned a place in the middle of the table. The case with SVMs was quite interesting as for linear kernel the performance dropped, for poly didn't change at all and improved for rbf, achieving ex aequo second best result with ElasticNet. In terms of regressions, the feature selection method decreased the performance of both methods. Using feature selected data, both regressions scored the same results and predictions, which was a relatively bigger drop in performance for Lasso regression. Summing up, feature selection was a mixed bag, improving some, worsening some predictions, but reduced the number of variables needed, so in case we lacked the information provided by the omitted variables, this somehow might prove useful."
   ]
  }
 ],
 "metadata": {
  "kernelspec": {
   "display_name": "Python 3",
   "language": "python",
   "name": "python3"
  },
  "language_info": {
   "codemirror_mode": {
    "name": "ipython",
    "version": 3
   },
   "file_extension": ".py",
   "mimetype": "text/x-python",
   "name": "python",
   "nbconvert_exporter": "python",
   "pygments_lexer": "ipython3",
   "version": "3.8.5"
  },
  "toc": {
   "base_numbering": 1,
   "nav_menu": {},
   "number_sections": true,
   "sideBar": true,
   "skip_h1_title": false,
   "title_cell": "Table of Contents",
   "title_sidebar": "Contents",
   "toc_cell": false,
   "toc_position": {},
   "toc_section_display": true,
   "toc_window_display": false
  },
  "varInspector": {
   "cols": {
    "lenName": 16,
    "lenType": 16,
    "lenVar": 40
   },
   "kernels_config": {
    "python": {
     "delete_cmd_postfix": "",
     "delete_cmd_prefix": "del ",
     "library": "var_list.py",
     "varRefreshCmd": "print(var_dic_list())"
    },
    "r": {
     "delete_cmd_postfix": ") ",
     "delete_cmd_prefix": "rm(",
     "library": "var_list.r",
     "varRefreshCmd": "cat(var_dic_list()) "
    }
   },
   "types_to_exclude": [
    "module",
    "function",
    "builtin_function_or_method",
    "instance",
    "_Feature"
   ],
   "window_display": false
  }
 },
 "nbformat": 4,
 "nbformat_minor": 2
}
